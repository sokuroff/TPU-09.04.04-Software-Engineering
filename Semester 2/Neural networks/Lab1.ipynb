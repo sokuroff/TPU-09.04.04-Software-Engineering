{
 "cells": [
  {
   "cell_type": "markdown",
   "metadata": {},
   "source": [
    "# Бинарный классификатор"
   ]
  },
  {
   "cell_type": "markdown",
   "metadata": {},
   "source": [
    "## Описание датасета"
   ]
  },
  {
   "cell_type": "markdown",
   "metadata": {},
   "source": [
    "Согласно варианту в ходе работы используем датасет [«Оценка вероятности диагностики диабета у человека»](https://www.kaggle.com/datasets/alexteboul/diabetes-health-indicators-dataset). В данном датасете имеется обезличенная информация о пациентах, а также метка диабета, состоящая их трёх значений: 0 (нет диабета), 1 (преддиабет) и 2 (диабет). Поскольку по заданию необходимо реализовать бинарный классификатор, то классы 1 и 2 будут объеденены в один. Для загрузки датасета с kaggle установим их API."
   ]
  },
  {
   "cell_type": "code",
   "execution_count": 3,
   "metadata": {},
   "outputs": [
    {
     "name": "stdout",
     "output_type": "stream",
     "text": [
      "Defaulting to user installation because normal site-packages is not writeable\n",
      "Collecting kaggle\n",
      "  Downloading kaggle-1.7.4.2-py3-none-any.whl (173 kB)\n",
      "\u001b[K     |████████████████████████████████| 173 kB 518 kB/s eta 0:00:01\n",
      "\u001b[?25hCollecting tqdm\n",
      "  Downloading tqdm-4.67.1-py3-none-any.whl (78 kB)\n",
      "\u001b[K     |████████████████████████████████| 78 kB 3.5 MB/s eta 0:00:01\n",
      "\u001b[?25hCollecting urllib3>=1.15.1\n",
      "  Downloading urllib3-2.3.0-py3-none-any.whl (128 kB)\n",
      "\u001b[K     |████████████████████████████████| 128 kB 4.7 MB/s eta 0:00:01\n",
      "\u001b[?25hRequirement already satisfied: six>=1.10 in /Library/Developer/CommandLineTools/Library/Frameworks/Python3.framework/Versions/3.9/lib/python3.9/site-packages (from kaggle) (1.15.0)\n",
      "Requirement already satisfied: setuptools>=21.0.0 in /Library/Developer/CommandLineTools/Library/Frameworks/Python3.framework/Versions/3.9/lib/python3.9/site-packages (from kaggle) (58.0.4)\n",
      "Collecting protobuf\n",
      "  Downloading protobuf-6.30.1-cp39-abi3-macosx_10_9_universal2.whl (417 kB)\n",
      "\u001b[K     |████████████████████████████████| 417 kB 3.8 MB/s eta 0:00:01\n",
      "\u001b[?25hRequirement already satisfied: python-dateutil>=2.5.3 in /Users/master/Library/Python/3.9/lib/python/site-packages (from kaggle) (2.9.0.post0)\n",
      "Collecting certifi>=14.05.14\n",
      "  Downloading certifi-2025.1.31-py3-none-any.whl (166 kB)\n",
      "\u001b[K     |████████████████████████████████| 166 kB 7.3 MB/s eta 0:00:01\n",
      "\u001b[?25hCollecting webencodings\n",
      "  Downloading webencodings-0.5.1-py2.py3-none-any.whl (11 kB)\n",
      "Collecting bleach\n",
      "  Downloading bleach-6.2.0-py3-none-any.whl (163 kB)\n",
      "\u001b[K     |████████████████████████████████| 163 kB 10.8 MB/s eta 0:00:01\n",
      "\u001b[?25hCollecting charset-normalizer\n",
      "  Downloading charset_normalizer-3.4.1-cp39-cp39-macosx_10_9_universal2.whl (197 kB)\n",
      "\u001b[K     |████████████████████████████████| 197 kB 4.3 MB/s eta 0:00:01\n",
      "\u001b[?25hCollecting python-slugify\n",
      "  Downloading python_slugify-8.0.4-py2.py3-none-any.whl (10 kB)\n",
      "Collecting text-unidecode\n",
      "  Downloading text_unidecode-1.3-py2.py3-none-any.whl (78 kB)\n",
      "\u001b[K     |████████████████████████████████| 78 kB 3.0 MB/s eta 0:00:01\n",
      "\u001b[?25hCollecting idna\n",
      "  Downloading idna-3.10-py3-none-any.whl (70 kB)\n",
      "\u001b[K     |████████████████████████████████| 70 kB 5.4 MB/s eta 0:00:01\n",
      "\u001b[?25hCollecting requests\n",
      "  Using cached requests-2.32.3-py3-none-any.whl (64 kB)\n",
      "Installing collected packages: webencodings, urllib3, text-unidecode, idna, charset-normalizer, certifi, tqdm, requests, python-slugify, protobuf, bleach, kaggle\n",
      "Successfully installed bleach-6.2.0 certifi-2025.1.31 charset-normalizer-3.4.1 idna-3.10 kaggle-1.7.4.2 protobuf-6.30.1 python-slugify-8.0.4 requests-2.32.3 text-unidecode-1.3 tqdm-4.67.1 urllib3-2.3.0 webencodings-0.5.1\n",
      "\u001b[33mWARNING: You are using pip version 21.2.4; however, version 25.0.1 is available.\n",
      "You should consider upgrading via the '/Library/Developer/CommandLineTools/usr/bin/python3 -m pip install --upgrade pip' command.\u001b[0m\n",
      "Note: you may need to restart the kernel to use updated packages.\n"
     ]
    }
   ],
   "source": [
    "pip install kaggle"
   ]
  },
  {
   "cell_type": "markdown",
   "metadata": {},
   "source": [
    "Можно вписать свои данные через os.environ, а можно просто поместить kaggle.json в нужную директорию, в данной работе используется второй вариант."
   ]
  },
  {
   "cell_type": "code",
   "execution_count": null,
   "metadata": {},
   "outputs": [],
   "source": [
    "# import os\n",
    "# os.environ['KAGGLE_USERNAME'] = \"USERNAME\" # username from the json file\n",
    "# os.environ['KAGGLE_KEY'] = \"KEY\" # key from the json file"
   ]
  },
  {
   "cell_type": "code",
   "execution_count": null,
   "metadata": {},
   "outputs": [
    {
     "name": "stdout",
     "output_type": "stream",
     "text": [
      "Dataset URL: https://www.kaggle.com/datasets/alexteboul/diabetes-health-indicators-dataset\n"
     ]
    }
   ],
   "source": [
    "import kaggle\n",
    "\n",
    "dataset_name = \"alexteboul/diabetes-health-indicators-dataset\"\n",
    "\n",
    "# download and unzip to current folder\n",
    "kaggle.api.dataset_download_files(dataset_name, path=\"./\", unzip=True)\n"
   ]
  },
  {
   "cell_type": "code",
   "execution_count": 4,
   "metadata": {},
   "outputs": [
    {
     "data": {
      "text/html": [
       "<div>\n",
       "<style scoped>\n",
       "    .dataframe tbody tr th:only-of-type {\n",
       "        vertical-align: middle;\n",
       "    }\n",
       "\n",
       "    .dataframe tbody tr th {\n",
       "        vertical-align: top;\n",
       "    }\n",
       "\n",
       "    .dataframe thead th {\n",
       "        text-align: right;\n",
       "    }\n",
       "</style>\n",
       "<table border=\"1\" class=\"dataframe\">\n",
       "  <thead>\n",
       "    <tr style=\"text-align: right;\">\n",
       "      <th></th>\n",
       "      <th>Diabetes_012</th>\n",
       "      <th>HighBP</th>\n",
       "      <th>HighChol</th>\n",
       "      <th>CholCheck</th>\n",
       "      <th>BMI</th>\n",
       "      <th>Smoker</th>\n",
       "      <th>Stroke</th>\n",
       "      <th>HeartDiseaseorAttack</th>\n",
       "      <th>PhysActivity</th>\n",
       "      <th>Fruits</th>\n",
       "      <th>...</th>\n",
       "      <th>AnyHealthcare</th>\n",
       "      <th>NoDocbcCost</th>\n",
       "      <th>GenHlth</th>\n",
       "      <th>MentHlth</th>\n",
       "      <th>PhysHlth</th>\n",
       "      <th>DiffWalk</th>\n",
       "      <th>Sex</th>\n",
       "      <th>Age</th>\n",
       "      <th>Education</th>\n",
       "      <th>Income</th>\n",
       "    </tr>\n",
       "  </thead>\n",
       "  <tbody>\n",
       "    <tr>\n",
       "      <th>0</th>\n",
       "      <td>0.0</td>\n",
       "      <td>1.0</td>\n",
       "      <td>1.0</td>\n",
       "      <td>1.0</td>\n",
       "      <td>40.0</td>\n",
       "      <td>1.0</td>\n",
       "      <td>0.0</td>\n",
       "      <td>0.0</td>\n",
       "      <td>0.0</td>\n",
       "      <td>0.0</td>\n",
       "      <td>...</td>\n",
       "      <td>1.0</td>\n",
       "      <td>0.0</td>\n",
       "      <td>5.0</td>\n",
       "      <td>18.0</td>\n",
       "      <td>15.0</td>\n",
       "      <td>1.0</td>\n",
       "      <td>0.0</td>\n",
       "      <td>9.0</td>\n",
       "      <td>4.0</td>\n",
       "      <td>3.0</td>\n",
       "    </tr>\n",
       "    <tr>\n",
       "      <th>1</th>\n",
       "      <td>0.0</td>\n",
       "      <td>0.0</td>\n",
       "      <td>0.0</td>\n",
       "      <td>0.0</td>\n",
       "      <td>25.0</td>\n",
       "      <td>1.0</td>\n",
       "      <td>0.0</td>\n",
       "      <td>0.0</td>\n",
       "      <td>1.0</td>\n",
       "      <td>0.0</td>\n",
       "      <td>...</td>\n",
       "      <td>0.0</td>\n",
       "      <td>1.0</td>\n",
       "      <td>3.0</td>\n",
       "      <td>0.0</td>\n",
       "      <td>0.0</td>\n",
       "      <td>0.0</td>\n",
       "      <td>0.0</td>\n",
       "      <td>7.0</td>\n",
       "      <td>6.0</td>\n",
       "      <td>1.0</td>\n",
       "    </tr>\n",
       "    <tr>\n",
       "      <th>2</th>\n",
       "      <td>0.0</td>\n",
       "      <td>1.0</td>\n",
       "      <td>1.0</td>\n",
       "      <td>1.0</td>\n",
       "      <td>28.0</td>\n",
       "      <td>0.0</td>\n",
       "      <td>0.0</td>\n",
       "      <td>0.0</td>\n",
       "      <td>0.0</td>\n",
       "      <td>1.0</td>\n",
       "      <td>...</td>\n",
       "      <td>1.0</td>\n",
       "      <td>1.0</td>\n",
       "      <td>5.0</td>\n",
       "      <td>30.0</td>\n",
       "      <td>30.0</td>\n",
       "      <td>1.0</td>\n",
       "      <td>0.0</td>\n",
       "      <td>9.0</td>\n",
       "      <td>4.0</td>\n",
       "      <td>8.0</td>\n",
       "    </tr>\n",
       "    <tr>\n",
       "      <th>3</th>\n",
       "      <td>0.0</td>\n",
       "      <td>1.0</td>\n",
       "      <td>0.0</td>\n",
       "      <td>1.0</td>\n",
       "      <td>27.0</td>\n",
       "      <td>0.0</td>\n",
       "      <td>0.0</td>\n",
       "      <td>0.0</td>\n",
       "      <td>1.0</td>\n",
       "      <td>1.0</td>\n",
       "      <td>...</td>\n",
       "      <td>1.0</td>\n",
       "      <td>0.0</td>\n",
       "      <td>2.0</td>\n",
       "      <td>0.0</td>\n",
       "      <td>0.0</td>\n",
       "      <td>0.0</td>\n",
       "      <td>0.0</td>\n",
       "      <td>11.0</td>\n",
       "      <td>3.0</td>\n",
       "      <td>6.0</td>\n",
       "    </tr>\n",
       "    <tr>\n",
       "      <th>4</th>\n",
       "      <td>0.0</td>\n",
       "      <td>1.0</td>\n",
       "      <td>1.0</td>\n",
       "      <td>1.0</td>\n",
       "      <td>24.0</td>\n",
       "      <td>0.0</td>\n",
       "      <td>0.0</td>\n",
       "      <td>0.0</td>\n",
       "      <td>1.0</td>\n",
       "      <td>1.0</td>\n",
       "      <td>...</td>\n",
       "      <td>1.0</td>\n",
       "      <td>0.0</td>\n",
       "      <td>2.0</td>\n",
       "      <td>3.0</td>\n",
       "      <td>0.0</td>\n",
       "      <td>0.0</td>\n",
       "      <td>0.0</td>\n",
       "      <td>11.0</td>\n",
       "      <td>5.0</td>\n",
       "      <td>4.0</td>\n",
       "    </tr>\n",
       "  </tbody>\n",
       "</table>\n",
       "<p>5 rows × 22 columns</p>\n",
       "</div>"
      ],
      "text/plain": [
       "   Diabetes_012  HighBP  HighChol  CholCheck   BMI  Smoker  Stroke  \\\n",
       "0           0.0     1.0       1.0        1.0  40.0     1.0     0.0   \n",
       "1           0.0     0.0       0.0        0.0  25.0     1.0     0.0   \n",
       "2           0.0     1.0       1.0        1.0  28.0     0.0     0.0   \n",
       "3           0.0     1.0       0.0        1.0  27.0     0.0     0.0   \n",
       "4           0.0     1.0       1.0        1.0  24.0     0.0     0.0   \n",
       "\n",
       "   HeartDiseaseorAttack  PhysActivity  Fruits  ...  AnyHealthcare  \\\n",
       "0                   0.0           0.0     0.0  ...            1.0   \n",
       "1                   0.0           1.0     0.0  ...            0.0   \n",
       "2                   0.0           0.0     1.0  ...            1.0   \n",
       "3                   0.0           1.0     1.0  ...            1.0   \n",
       "4                   0.0           1.0     1.0  ...            1.0   \n",
       "\n",
       "   NoDocbcCost  GenHlth  MentHlth  PhysHlth  DiffWalk  Sex   Age  Education  \\\n",
       "0          0.0      5.0      18.0      15.0       1.0  0.0   9.0        4.0   \n",
       "1          1.0      3.0       0.0       0.0       0.0  0.0   7.0        6.0   \n",
       "2          1.0      5.0      30.0      30.0       1.0  0.0   9.0        4.0   \n",
       "3          0.0      2.0       0.0       0.0       0.0  0.0  11.0        3.0   \n",
       "4          0.0      2.0       3.0       0.0       0.0  0.0  11.0        5.0   \n",
       "\n",
       "   Income  \n",
       "0     3.0  \n",
       "1     1.0  \n",
       "2     8.0  \n",
       "3     6.0  \n",
       "4     4.0  \n",
       "\n",
       "[5 rows x 22 columns]"
      ]
     },
     "execution_count": 4,
     "metadata": {},
     "output_type": "execute_result"
    }
   ],
   "source": [
    "import pandas as pd\n",
    "\n",
    "df = pd.read_csv('diabetes_012_health_indicators_BRFSS2015.csv')\n",
    "df.head()"
   ]
  },
  {
   "cell_type": "markdown",
   "metadata": {},
   "source": [
    "Далее выполним замену трёх классов на два"
   ]
  },
  {
   "cell_type": "code",
   "execution_count": null,
   "metadata": {},
   "outputs": [
    {
     "name": "stdout",
     "output_type": "stream",
     "text": [
      "Diabetes_012\n",
      "0.0    213703\n",
      "2.0     35346\n",
      "1.0      4631\n",
      "Name: count, dtype: int64\n",
      "New column:\n",
      "Diabetes_012\n",
      "0    213703\n",
      "1     39977\n",
      "Name: count, dtype: int64\n"
     ]
    }
   ],
   "source": [
    "print(df['Diabetes_012'].value_counts()) # show the total number of values for each class\n",
    "df['Diabetes_012'] = df['Diabetes_012'].apply(lambda x: 1 if x > 0 else 0) # leave only 2 classes\n",
    "print(f\"New column:\\n{df['Diabetes_012'].value_counts()}\") # show the total number of values for each class"
   ]
  },
  {
   "cell_type": "markdown",
   "metadata": {},
   "source": [
    "Разделим датасет в соотношении 80/20"
   ]
  },
  {
   "cell_type": "code",
   "execution_count": null,
   "metadata": {},
   "outputs": [
    {
     "name": "stdout",
     "output_type": "stream",
     "text": [
      "X_train shape: (202944, 21)\n",
      " y_train shape: (202944,)\n",
      " X_test shape: (50736, 21)\n",
      " y_test shape: (50736,)\n"
     ]
    }
   ],
   "source": [
    "from sklearn.model_selection import train_test_split \n",
    "\n",
    "y = df['Diabetes_012']\n",
    "X = df.drop(['Diabetes_012'], axis = 1)\n",
    "\n",
    "X_train, X_test, y_train, y_test = train_test_split(X, y, stratify=y, test_size=0.2, random_state=42) # 80% to train and 20% to test\n",
    "print(f'X_train shape: {X_train.shape}\\n y_train shape: {y_train.shape}\\n X_test shape: {X_test.shape}\\n y_test shape: {y_test.shape}')"
   ]
  },
  {
   "cell_type": "markdown",
   "metadata": {},
   "source": [
    "Здесь мы задаём fit у MinMaxScaler только на обучающей выборке, чтобы информация от тестовой выборки не просачилась в обучение."
   ]
  },
  {
   "cell_type": "code",
   "execution_count": null,
   "metadata": {},
   "outputs": [],
   "source": [
    "from sklearn.preprocessing import MinMaxScaler\n",
    "\n",
    "min_max_scaler = MinMaxScaler()\n",
    "\n",
    "# put everything to [0;1] range\n",
    "X_train = min_max_scaler.fit_transform(X_train)\n",
    "X_test = min_max_scaler.transform(X_test)"
   ]
  },
  {
   "cell_type": "markdown",
   "metadata": {},
   "source": [
    "И собираем тензоры для PyTorch"
   ]
  },
  {
   "cell_type": "code",
   "execution_count": null,
   "metadata": {},
   "outputs": [],
   "source": [
    "import torch\n",
    "\n",
    "X_train = torch.tensor(X_train, dtype=torch.float32)\n",
    "X_test = torch.tensor(X_test, dtype=torch.float32)\n",
    "y_train = torch.tensor(y_train.to_numpy(), dtype=torch.float32).view(-1, 1)\n",
    "y_test = torch.tensor(y_test.to_numpy(), dtype=torch.float32).view(-1, 1)"
   ]
  },
  {
   "cell_type": "markdown",
   "metadata": {},
   "source": [
    "## Создание модели"
   ]
  },
  {
   "cell_type": "code",
   "execution_count": null,
   "metadata": {},
   "outputs": [],
   "source": [
    "import torch\n",
    "\n",
    "class BinaryClassificatorModel(torch.nn.Module):\n",
    "    def __init__(self):\n",
    "        super(BinaryClassificatorModel, self).__init__()\n",
    "        self.model = torch.nn.Sequential( \n",
    "            torch.nn.Linear(21, 64), # fully-connected layer (like «Dense» from Tensorflow)\n",
    "            torch.nn.ReLU(),\n",
    "            torch.nn.Linear(64, 128),\n",
    "            torch.nn.ReLU(),\n",
    "            torch.nn.Linear(128,128),\n",
    "            torch.nn.Linear(128, 1),\n",
    "            torch.nn.Sigmoid() # sigmoid to make [0;1] prediction\n",
    "        )\n",
    "    \n",
    "    def forward(self, x):\n",
    "        return self.model(x)\n"
   ]
  },
  {
   "cell_type": "markdown",
   "metadata": {},
   "source": [
    "## Обучение модели"
   ]
  },
  {
   "cell_type": "code",
   "execution_count": null,
   "metadata": {},
   "outputs": [
    {
     "name": "stdout",
     "output_type": "stream",
     "text": [
      "Epoch [1/100], Loss: 0.3688\n",
      "Epoch [2/100], Loss: 0.3422\n",
      "Epoch [3/100], Loss: 0.5204\n",
      "Epoch [4/100], Loss: 0.2530\n",
      "Epoch [5/100], Loss: 0.3579\n",
      "Epoch [6/100], Loss: 0.3647\n",
      "Epoch [7/100], Loss: 0.3359\n",
      "Epoch [8/100], Loss: 0.3889\n",
      "Epoch [9/100], Loss: 0.1933\n",
      "Epoch [10/100], Loss: 0.2674\n",
      "Epoch [11/100], Loss: 0.5642\n",
      "Epoch [12/100], Loss: 0.3286\n",
      "Epoch [13/100], Loss: 0.3091\n",
      "Epoch [14/100], Loss: 0.4413\n",
      "Epoch [15/100], Loss: 0.2895\n",
      "Epoch [16/100], Loss: 0.2739\n",
      "Epoch [17/100], Loss: 0.2589\n",
      "Epoch [18/100], Loss: 0.4388\n",
      "Epoch [19/100], Loss: 0.2067\n",
      "Epoch [20/100], Loss: 0.3015\n",
      "Epoch [21/100], Loss: 0.4057\n",
      "Epoch [22/100], Loss: 0.4158\n",
      "Epoch [23/100], Loss: 0.3303\n",
      "Epoch [24/100], Loss: 0.2660\n",
      "Epoch [25/100], Loss: 0.4224\n",
      "Epoch [26/100], Loss: 0.4007\n",
      "Epoch [27/100], Loss: 0.2374\n",
      "Epoch [28/100], Loss: 0.2183\n",
      "Epoch [29/100], Loss: 0.3410\n",
      "Epoch [30/100], Loss: 0.4001\n",
      "Epoch [31/100], Loss: 0.4817\n",
      "Epoch [32/100], Loss: 0.4191\n",
      "Epoch [33/100], Loss: 0.3538\n",
      "Epoch [34/100], Loss: 0.3749\n",
      "Epoch [35/100], Loss: 0.4072\n",
      "Epoch [36/100], Loss: 0.4003\n",
      "Epoch [37/100], Loss: 0.2100\n",
      "Epoch [38/100], Loss: 0.2924\n",
      "Epoch [39/100], Loss: 0.2543\n",
      "Epoch [40/100], Loss: 0.2633\n",
      "Epoch [41/100], Loss: 0.5404\n",
      "Epoch [42/100], Loss: 0.2955\n",
      "Epoch [43/100], Loss: 0.3537\n",
      "Epoch [44/100], Loss: 0.2715\n",
      "Epoch [45/100], Loss: 0.2118\n",
      "Epoch [46/100], Loss: 0.3464\n",
      "Epoch [47/100], Loss: 0.3623\n",
      "Epoch [48/100], Loss: 0.3757\n",
      "Epoch [49/100], Loss: 0.4125\n",
      "Epoch [50/100], Loss: 0.4231\n",
      "Epoch [51/100], Loss: 0.4180\n",
      "Epoch [52/100], Loss: 0.2368\n",
      "Epoch [53/100], Loss: 0.3309\n",
      "Epoch [54/100], Loss: 0.3942\n",
      "Epoch [55/100], Loss: 0.2222\n",
      "Epoch [56/100], Loss: 0.1598\n",
      "Epoch [57/100], Loss: 0.3457\n",
      "Epoch [58/100], Loss: 0.3735\n",
      "Epoch [59/100], Loss: 0.3815\n",
      "Epoch [60/100], Loss: 0.2430\n",
      "Epoch [61/100], Loss: 0.2691\n",
      "Epoch [62/100], Loss: 0.4276\n",
      "Epoch [63/100], Loss: 0.3555\n",
      "Epoch [64/100], Loss: 0.3592\n",
      "Epoch [65/100], Loss: 0.3402\n",
      "Epoch [66/100], Loss: 0.2922\n",
      "Epoch [67/100], Loss: 0.3243\n",
      "Epoch [68/100], Loss: 0.3572\n",
      "Epoch [69/100], Loss: 0.2664\n",
      "Epoch [70/100], Loss: 0.2748\n",
      "Epoch [71/100], Loss: 0.4574\n",
      "Epoch [72/100], Loss: 0.1308\n",
      "Epoch [73/100], Loss: 0.2630\n",
      "Epoch [74/100], Loss: 0.2155\n",
      "Epoch [75/100], Loss: 0.4077\n",
      "Epoch [76/100], Loss: 0.5657\n",
      "Epoch [77/100], Loss: 0.5548\n",
      "Epoch [78/100], Loss: 0.2935\n",
      "Epoch [79/100], Loss: 0.2756\n",
      "Epoch [80/100], Loss: 0.2925\n",
      "Epoch [81/100], Loss: 0.3395\n",
      "Epoch [82/100], Loss: 0.4603\n",
      "Epoch [83/100], Loss: 0.3176\n",
      "Epoch [84/100], Loss: 0.4061\n",
      "Epoch [85/100], Loss: 0.3011\n",
      "Epoch [86/100], Loss: 0.3779\n",
      "Epoch [87/100], Loss: 0.3833\n",
      "Epoch [88/100], Loss: 0.3790\n",
      "Epoch [89/100], Loss: 0.2774\n",
      "Epoch [90/100], Loss: 0.1920\n",
      "Epoch [91/100], Loss: 0.4397\n",
      "Epoch [92/100], Loss: 0.1929\n",
      "Epoch [93/100], Loss: 0.3710\n",
      "Epoch [94/100], Loss: 0.2902\n",
      "Epoch [95/100], Loss: 0.2343\n",
      "Epoch [96/100], Loss: 0.3487\n",
      "Epoch [97/100], Loss: 0.2927\n",
      "Epoch [98/100], Loss: 0.3998\n",
      "Epoch [99/100], Loss: 0.3348\n",
      "Epoch [100/100], Loss: 0.1028\n",
      "Test Accuracy: 0.8493\n"
     ]
    }
   ],
   "source": [
    "import torch\n",
    "import torch.nn as nn\n",
    "import torch.optim as optim\n",
    "from torch.utils.data import DataLoader, TensorDataset\n",
    "\n",
    "# hyper-parameters\n",
    "batch_size = 32\n",
    "num_epochs = 100\n",
    "learning_rate = 0.001\n",
    "\n",
    "model = BinaryClassificatorModel()\n",
    "criterion = nn.BCELoss()\n",
    "optimizer = optim.Adam(model.parameters(), lr=learning_rate)\n",
    "\n",
    "train_dataset = TensorDataset(X_train, y_train)\n",
    "train_loader = DataLoader(train_dataset, batch_size=batch_size, shuffle=True)\n",
    "\n",
    "for epoch in range(num_epochs):\n",
    "    for X_batch, y_batch in train_loader:\n",
    "        # Feedforward\n",
    "        y_pred = model(X_batch)\n",
    "        loss = criterion(y_pred, y_batch)\n",
    "\n",
    "        # Backpropagation\n",
    "        optimizer.zero_grad()\n",
    "        loss.backward()\n",
    "        optimizer.step()\n",
    "\n",
    "    print(f\"Epoch [{epoch+1}/{num_epochs}], Loss: {loss.item():.4f}\")\n",
    "\n",
    "with torch.no_grad():\n",
    "    y_pred_test = model(X_test)\n",
    "    y_pred_labels = (y_pred_test >= 0.5).float()  # from [0;1] to (0,1)\n",
    "    accuracy = (y_pred_labels == y_test).float().mean()\n",
    "\n",
    "print(f\"Test Accuracy: {accuracy:.4f}\")"
   ]
  },
  {
   "cell_type": "markdown",
   "metadata": {},
   "source": [
    "## Расчёт метрик"
   ]
  },
  {
   "cell_type": "code",
   "execution_count": null,
   "metadata": {},
   "outputs": [
    {
     "name": "stdout",
     "output_type": "stream",
     "text": [
      "TPR: 0.1526, FPR: 0.0204, TNR: 0.9796, FNR: 0.8474\n",
      "AUROC: 0.8139\n"
     ]
    }
   ],
   "source": [
    "import numpy as np\n",
    "from sklearn.metrics import confusion_matrix, roc_curve, auc\n",
    "\n",
    "\n",
    "with torch.no_grad():\n",
    "    y_pred_test = model(X_test)\n",
    "    y_pred_labels = (y_pred_test >= 0.5).float()  \n",
    "\n",
    "    \n",
    "    y_true = y_test.numpy().flatten() \n",
    "    y_pred = y_pred_labels.numpy().flatten() \n",
    "\n",
    "    # tn = true negative\n",
    "    # fp = false positive\n",
    "    # fn = false negative\n",
    "    # tp = true positive\n",
    "    tn, fp, fn, tp = confusion_matrix(y_true, y_pred).ravel()\n",
    "\n",
    "    # Метрики\n",
    "    TPR = tp / (tp + fn)  # True Positive Rate\n",
    "    FPR = fp / (fp + tn)  # False Positive Rate\n",
    "    TNR = tn / (tn + fp)  # True Negative Rate\n",
    "    FNR = fn / (fn + tp)  # False Negative Rate\n",
    "\n",
    "    print(f\"TPR: {TPR:.4f}, FPR: {FPR:.4f}, TNR: {TNR:.4f}, FNR: {FNR:.4f}\")\n",
    "\n",
    "    # ROC curve and AUROC\n",
    "    fpr, tpr, thresholds = roc_curve(y_true, y_pred_test.numpy().flatten())\n",
    "    roc_auc = auc(fpr, tpr)\n",
    "\n",
    "    print(f\"AUROC: {roc_auc:.4f}\")"
   ]
  },
  {
   "cell_type": "code",
   "execution_count": 26,
   "metadata": {},
   "outputs": [
    {
     "data": {
      "image/png": "[encoded data removed]",
      "text/plain": [
       "<Figure size 640x480 with 1 Axes>"
      ]
     },
     "metadata": {},
     "output_type": "display_data"
    }
   ],
   "source": [
    "import matplotlib.pyplot as plt\n",
    "\n",
    "# ROC curve\n",
    "fpr, tpr, thresholds = roc_curve(y_true, y_pred_test.numpy().flatten())\n",
    "roc_auc = auc(fpr, tpr)\n",
    "\n",
    "# Показ графика\n",
    "plt.figure()\n",
    "plt.plot(fpr, tpr, color='darkorange', lw=2, label=f'ROC curve (area = {roc_auc:.2f})')\n",
    "plt.plot([0, 1], [0, 1], color='navy', lw=2, linestyle='--')  # Линия случайного классификатора\n",
    "plt.xlim([0.0, 1.0])\n",
    "plt.ylim([0.0, 1.05])\n",
    "plt.xlabel('False Positive Rate')\n",
    "plt.ylabel('True Positive Rate')\n",
    "plt.title('Receiver Operating Characteristic (ROC) Curve')\n",
    "plt.legend(loc='lower right')\n",
    "plt.show()"
   ]
  },
  {
   "cell_type": "markdown",
   "metadata": {},
   "source": [
    "# Многоклассовый классификатор"
   ]
  },
  {
   "cell_type": "markdown",
   "metadata": {},
   "source": [
    "## Описание датасета"
   ]
  },
  {
   "cell_type": "markdown",
   "metadata": {},
   "source": [
    "Согласно варианту в ходе работы используем датасет [«Оценка уровня физического развития людей разного возраста»](https://www.kaggle.com/datasets/kukuroo3/body-performance-data). В данном датасете людям выделяется 4 оценки физической активности: A,B,C,D. Именно эту оценку мы и будем предсказывать."
   ]
  },
  {
   "cell_type": "code",
   "execution_count": 2,
   "metadata": {},
   "outputs": [
    {
     "name": "stdout",
     "output_type": "stream",
     "text": [
      "Dataset URL: https://www.kaggle.com/datasets/kukuroo3/body-performance-data\n"
     ]
    }
   ],
   "source": [
    "import kaggle\n",
    "\n",
    "# Имя датасета\n",
    "dataset_name = \"kukuroo3/body-performance-data\"\n",
    "\n",
    "# Скачиваем и разархивируем в текущую папку\n",
    "kaggle.api.dataset_download_files(dataset_name, path=\"./\", unzip=True)\n"
   ]
  },
  {
   "cell_type": "code",
   "execution_count": 3,
   "metadata": {},
   "outputs": [
    {
     "data": {
      "text/html": [
       "<div>\n",
       "<style scoped>\n",
       "    .dataframe tbody tr th:only-of-type {\n",
       "        vertical-align: middle;\n",
       "    }\n",
       "\n",
       "    .dataframe tbody tr th {\n",
       "        vertical-align: top;\n",
       "    }\n",
       "\n",
       "    .dataframe thead th {\n",
       "        text-align: right;\n",
       "    }\n",
       "</style>\n",
       "<table border=\"1\" class=\"dataframe\">\n",
       "  <thead>\n",
       "    <tr style=\"text-align: right;\">\n",
       "      <th></th>\n",
       "      <th>age</th>\n",
       "      <th>gender</th>\n",
       "      <th>height_cm</th>\n",
       "      <th>weight_kg</th>\n",
       "      <th>body fat_%</th>\n",
       "      <th>diastolic</th>\n",
       "      <th>systolic</th>\n",
       "      <th>gripForce</th>\n",
       "      <th>sit and bend forward_cm</th>\n",
       "      <th>sit-ups counts</th>\n",
       "      <th>broad jump_cm</th>\n",
       "      <th>class</th>\n",
       "    </tr>\n",
       "  </thead>\n",
       "  <tbody>\n",
       "    <tr>\n",
       "      <th>0</th>\n",
       "      <td>27.0</td>\n",
       "      <td>M</td>\n",
       "      <td>172.3</td>\n",
       "      <td>75.24</td>\n",
       "      <td>21.3</td>\n",
       "      <td>80.0</td>\n",
       "      <td>130.0</td>\n",
       "      <td>54.9</td>\n",
       "      <td>18.4</td>\n",
       "      <td>60.0</td>\n",
       "      <td>217.0</td>\n",
       "      <td>C</td>\n",
       "    </tr>\n",
       "    <tr>\n",
       "      <th>1</th>\n",
       "      <td>25.0</td>\n",
       "      <td>M</td>\n",
       "      <td>165.0</td>\n",
       "      <td>55.80</td>\n",
       "      <td>15.7</td>\n",
       "      <td>77.0</td>\n",
       "      <td>126.0</td>\n",
       "      <td>36.4</td>\n",
       "      <td>16.3</td>\n",
       "      <td>53.0</td>\n",
       "      <td>229.0</td>\n",
       "      <td>A</td>\n",
       "    </tr>\n",
       "    <tr>\n",
       "      <th>2</th>\n",
       "      <td>31.0</td>\n",
       "      <td>M</td>\n",
       "      <td>179.6</td>\n",
       "      <td>78.00</td>\n",
       "      <td>20.1</td>\n",
       "      <td>92.0</td>\n",
       "      <td>152.0</td>\n",
       "      <td>44.8</td>\n",
       "      <td>12.0</td>\n",
       "      <td>49.0</td>\n",
       "      <td>181.0</td>\n",
       "      <td>C</td>\n",
       "    </tr>\n",
       "    <tr>\n",
       "      <th>3</th>\n",
       "      <td>32.0</td>\n",
       "      <td>M</td>\n",
       "      <td>174.5</td>\n",
       "      <td>71.10</td>\n",
       "      <td>18.4</td>\n",
       "      <td>76.0</td>\n",
       "      <td>147.0</td>\n",
       "      <td>41.4</td>\n",
       "      <td>15.2</td>\n",
       "      <td>53.0</td>\n",
       "      <td>219.0</td>\n",
       "      <td>B</td>\n",
       "    </tr>\n",
       "    <tr>\n",
       "      <th>4</th>\n",
       "      <td>28.0</td>\n",
       "      <td>M</td>\n",
       "      <td>173.8</td>\n",
       "      <td>67.70</td>\n",
       "      <td>17.1</td>\n",
       "      <td>70.0</td>\n",
       "      <td>127.0</td>\n",
       "      <td>43.5</td>\n",
       "      <td>27.1</td>\n",
       "      <td>45.0</td>\n",
       "      <td>217.0</td>\n",
       "      <td>B</td>\n",
       "    </tr>\n",
       "  </tbody>\n",
       "</table>\n",
       "</div>"
      ],
      "text/plain": [
       "    age gender  height_cm  weight_kg  body fat_%  diastolic  systolic  \\\n",
       "0  27.0      M      172.3      75.24        21.3       80.0     130.0   \n",
       "1  25.0      M      165.0      55.80        15.7       77.0     126.0   \n",
       "2  31.0      M      179.6      78.00        20.1       92.0     152.0   \n",
       "3  32.0      M      174.5      71.10        18.4       76.0     147.0   \n",
       "4  28.0      M      173.8      67.70        17.1       70.0     127.0   \n",
       "\n",
       "   gripForce  sit and bend forward_cm  sit-ups counts  broad jump_cm class  \n",
       "0       54.9                     18.4            60.0          217.0     C  \n",
       "1       36.4                     16.3            53.0          229.0     A  \n",
       "2       44.8                     12.0            49.0          181.0     C  \n",
       "3       41.4                     15.2            53.0          219.0     B  \n",
       "4       43.5                     27.1            45.0          217.0     B  "
      ]
     },
     "execution_count": 3,
     "metadata": {},
     "output_type": "execute_result"
    }
   ],
   "source": [
    "import pandas as pd\n",
    "\n",
    "df = pd.read_csv('bodyPerformance.csv')\n",
    "df.head()"
   ]
  },
  {
   "cell_type": "markdown",
   "metadata": {},
   "source": [
    "Перекодируем столбец \"gender\" на 1/0 вместо M/F. Для этого используем label encoder."
   ]
  },
  {
   "cell_type": "code",
   "execution_count": null,
   "metadata": {},
   "outputs": [
    {
     "name": "stdout",
     "output_type": "stream",
     "text": [
      "['M' 'F']\n",
      "[1 0]\n"
     ]
    }
   ],
   "source": [
    "from sklearn.preprocessing import LabelEncoder\n",
    "\n",
    "print(df['gender'].unique())\n",
    "le = LabelEncoder()\n",
    "df['gender'] = le.fit_transform(df['gender'])\n",
    "print(df['gender'].unique())"
   ]
  },
  {
   "cell_type": "markdown",
   "metadata": {},
   "source": [
    "Таким образом получилось, что мужской пол кодируется единичкой, а женский - нулём. Не забудем про кодировку буквенных обозначений классов на численные:"
   ]
  },
  {
   "cell_type": "code",
   "execution_count": 5,
   "metadata": {},
   "outputs": [
    {
     "name": "stdout",
     "output_type": "stream",
     "text": [
      "['C' 'A' 'B' 'D']\n",
      "[2 0 1 3]\n"
     ]
    }
   ],
   "source": [
    "from sklearn.preprocessing import LabelEncoder\n",
    "\n",
    "print(df['class'].unique())\n",
    "le2 = LabelEncoder()\n",
    "df['class'] = le2.fit_transform(df['class'])\n",
    "print(df['class'].unique())"
   ]
  },
  {
   "cell_type": "markdown",
   "metadata": {},
   "source": [
    "Также как и в прошлый раз делим в соотношении 80/20"
   ]
  },
  {
   "cell_type": "code",
   "execution_count": 6,
   "metadata": {},
   "outputs": [
    {
     "name": "stdout",
     "output_type": "stream",
     "text": [
      "X_train shape: (10714, 11)\n",
      " y_train shape: (10714,)\n",
      " X_test shape: (2679, 11)\n",
      " y_test shape: (2679,)\n"
     ]
    }
   ],
   "source": [
    "from sklearn.model_selection import train_test_split\n",
    "\n",
    "y = df['class']\n",
    "X = df.drop(['class'], axis = 1)\n",
    "\n",
    "X_train, X_test, y_train, y_test = train_test_split(X, y, stratify=y, test_size=0.2, random_state=42)\n",
    "print(f'X_train shape: {X_train.shape}\\n y_train shape: {y_train.shape}\\n X_test shape: {X_test.shape}\\n y_test shape: {y_test.shape}')"
   ]
  },
  {
   "cell_type": "markdown",
   "metadata": {},
   "source": [
    "Здесь мы задаём fit у MinMaxScaler только на обучающей выборке, чтобы информация от тестовой выборки не просачилась в обучение."
   ]
  },
  {
   "cell_type": "code",
   "execution_count": 7,
   "metadata": {},
   "outputs": [],
   "source": [
    "from sklearn.preprocessing import MinMaxScaler\n",
    "\n",
    "min_max_scaler = MinMaxScaler()\n",
    "\n",
    "X_train = min_max_scaler.fit_transform(X_train)\n",
    "X_test = min_max_scaler.transform(X_test)\n"
   ]
  },
  {
   "cell_type": "markdown",
   "metadata": {},
   "source": [
    "И собираем тензоры для PyTorch"
   ]
  },
  {
   "cell_type": "code",
   "execution_count": 8,
   "metadata": {},
   "outputs": [],
   "source": [
    "import torch\n",
    "\n",
    "X_train = torch.tensor(X_train, dtype=torch.float32)\n",
    "X_test = torch.tensor(X_test, dtype=torch.float32)\n",
    "y_train = torch.tensor(y_train.to_numpy(), dtype=torch.float32).view(-1, 1)\n",
    "y_test = torch.tensor(y_test.to_numpy(), dtype=torch.float32).view(-1, 1)"
   ]
  },
  {
   "cell_type": "markdown",
   "metadata": {},
   "source": [
    "## Создание модели"
   ]
  },
  {
   "cell_type": "code",
   "execution_count": 9,
   "metadata": {},
   "outputs": [],
   "source": [
    "import torch\n",
    "\n",
    "class Classifier(torch.nn.Module):\n",
    "    def __init__(self):\n",
    "        super(Classifier, self).__init__()\n",
    "        self.model = torch.nn.Sequential(\n",
    "            torch.nn.Linear(11, 64),\n",
    "            torch.nn.ReLU(),\n",
    "            torch.nn.Linear(64, 128),\n",
    "            torch.nn.ReLU(),\n",
    "            torch.nn.Linear(128,128),\n",
    "            torch.nn.ReLU(),\n",
    "            torch.nn.Linear(128, 4)\n",
    "        )\n",
    "    \n",
    "    def forward(self, x):\n",
    "        return self.model(x)\n"
   ]
  },
  {
   "cell_type": "markdown",
   "metadata": {},
   "source": [
    "## Обучение модели"
   ]
  },
  {
   "cell_type": "code",
   "execution_count": null,
   "metadata": {},
   "outputs": [
    {
     "name": "stdout",
     "output_type": "stream",
     "text": [
      "Epoch [1/100], Loss: 0.9717\n",
      "Epoch [2/100], Loss: 0.8744\n",
      "Epoch [3/100], Loss: 0.8305\n",
      "Epoch [4/100], Loss: 0.8043\n",
      "Epoch [5/100], Loss: 0.8923\n",
      "Epoch [6/100], Loss: 0.8140\n",
      "Epoch [7/100], Loss: 0.6526\n",
      "Epoch [8/100], Loss: 1.0775\n",
      "Epoch [9/100], Loss: 0.8632\n",
      "Epoch [10/100], Loss: 0.7083\n",
      "Epoch [11/100], Loss: 0.8704\n",
      "Epoch [12/100], Loss: 0.8057\n",
      "Epoch [13/100], Loss: 0.8706\n",
      "Epoch [14/100], Loss: 1.0531\n",
      "Epoch [15/100], Loss: 0.6078\n",
      "Epoch [16/100], Loss: 0.6992\n",
      "Epoch [17/100], Loss: 0.7881\n",
      "Epoch [18/100], Loss: 0.5504\n",
      "Epoch [19/100], Loss: 0.9260\n",
      "Epoch [20/100], Loss: 0.5778\n",
      "Epoch [21/100], Loss: 0.7109\n",
      "Epoch [22/100], Loss: 0.4466\n",
      "Epoch [23/100], Loss: 0.7244\n",
      "Epoch [24/100], Loss: 0.6779\n",
      "Epoch [25/100], Loss: 0.4812\n",
      "Epoch [26/100], Loss: 0.7889\n",
      "Epoch [27/100], Loss: 0.6330\n",
      "Epoch [28/100], Loss: 0.5796\n",
      "Epoch [29/100], Loss: 0.5891\n",
      "Epoch [30/100], Loss: 0.4868\n",
      "Epoch [31/100], Loss: 0.6092\n",
      "Epoch [32/100], Loss: 0.4989\n",
      "Epoch [33/100], Loss: 0.5937\n",
      "Epoch [34/100], Loss: 0.7876\n",
      "Epoch [35/100], Loss: 0.4009\n",
      "Epoch [36/100], Loss: 0.4052\n",
      "Epoch [37/100], Loss: 0.5703\n",
      "Epoch [38/100], Loss: 0.6036\n",
      "Epoch [39/100], Loss: 0.7956\n",
      "Epoch [40/100], Loss: 0.6020\n",
      "Epoch [41/100], Loss: 0.4654\n",
      "Epoch [42/100], Loss: 0.4837\n",
      "Epoch [43/100], Loss: 0.8738\n",
      "Epoch [44/100], Loss: 0.4687\n",
      "Epoch [45/100], Loss: 0.6191\n",
      "Epoch [46/100], Loss: 0.5220\n",
      "Epoch [47/100], Loss: 0.7104\n",
      "Epoch [48/100], Loss: 0.7942\n",
      "Epoch [49/100], Loss: 0.5439\n",
      "Epoch [50/100], Loss: 0.4344\n",
      "Epoch [51/100], Loss: 0.5434\n",
      "Epoch [52/100], Loss: 0.7063\n",
      "Epoch [53/100], Loss: 0.6010\n",
      "Epoch [54/100], Loss: 0.7932\n",
      "Epoch [55/100], Loss: 0.5542\n",
      "Epoch [56/100], Loss: 0.5973\n",
      "Epoch [57/100], Loss: 0.6854\n",
      "Epoch [58/100], Loss: 0.5447\n",
      "Epoch [59/100], Loss: 0.5397\n",
      "Epoch [60/100], Loss: 0.6574\n",
      "Epoch [61/100], Loss: 0.5775\n",
      "Epoch [62/100], Loss: 0.6852\n",
      "Epoch [63/100], Loss: 0.7530\n",
      "Epoch [64/100], Loss: 0.6943\n",
      "Epoch [65/100], Loss: 0.7972\n",
      "Epoch [66/100], Loss: 0.4064\n",
      "Epoch [67/100], Loss: 0.9836\n",
      "Epoch [68/100], Loss: 0.5994\n",
      "Epoch [69/100], Loss: 0.4862\n",
      "Epoch [70/100], Loss: 0.8157\n",
      "Epoch [71/100], Loss: 0.8698\n",
      "Epoch [72/100], Loss: 0.7521\n",
      "Epoch [73/100], Loss: 0.4943\n",
      "Epoch [74/100], Loss: 0.7190\n",
      "Epoch [75/100], Loss: 0.3937\n",
      "Epoch [76/100], Loss: 0.7597\n",
      "Epoch [77/100], Loss: 0.6208\n",
      "Epoch [78/100], Loss: 0.4085\n",
      "Epoch [79/100], Loss: 0.4712\n",
      "Epoch [80/100], Loss: 0.7556\n",
      "Epoch [81/100], Loss: 0.6824\n",
      "Epoch [82/100], Loss: 0.6319\n",
      "Epoch [83/100], Loss: 0.7426\n",
      "Epoch [84/100], Loss: 0.5559\n",
      "Epoch [85/100], Loss: 0.5742\n",
      "Epoch [86/100], Loss: 0.4318\n",
      "Epoch [87/100], Loss: 0.6660\n",
      "Epoch [88/100], Loss: 0.5887\n",
      "Epoch [89/100], Loss: 0.4482\n",
      "Epoch [90/100], Loss: 0.7042\n",
      "Epoch [91/100], Loss: 0.6680\n",
      "Epoch [92/100], Loss: 0.7950\n",
      "Epoch [93/100], Loss: 0.5769\n",
      "Epoch [94/100], Loss: 0.6335\n",
      "Epoch [95/100], Loss: 0.5388\n",
      "Epoch [96/100], Loss: 0.6538\n",
      "Epoch [97/100], Loss: 0.3405\n",
      "Epoch [98/100], Loss: 0.4918\n",
      "Epoch [99/100], Loss: 0.5726\n",
      "Epoch [100/100], Loss: 0.4984\n"
     ]
    }
   ],
   "source": [
    "import torch\n",
    "import torch.nn as nn\n",
    "import torch.optim as optim\n",
    "from torch.utils.data import DataLoader, TensorDataset\n",
    "\n",
    "batch_size = 32\n",
    "num_epochs = 100\n",
    "learning_rate = 0.001\n",
    "\n",
    "model = Classifier()\n",
    "criterion = nn.CrossEntropyLoss()\n",
    "optimizer = optim.Adam(model.parameters(), lr=0.001)\n",
    "\n",
    "train_dataset = TensorDataset(X_train, y_train)\n",
    "train_loader = DataLoader(train_dataset, batch_size=batch_size, shuffle=True)\n",
    "\n",
    "for epoch in range(num_epochs):\n",
    "    for X_batch, y_batch in train_loader:\n",
    "        y_batch = y_batch.squeeze(dim=1).long()\n",
    "        # Прямой проход\n",
    "        y_pred = model(X_batch)\n",
    "        loss = criterion(y_pred, y_batch)\n",
    "\n",
    "        # Обратное распространение ошибки\n",
    "        optimizer.zero_grad()\n",
    "        loss.backward()\n",
    "        optimizer.step()\n",
    "\n",
    "    print(f\"Epoch [{epoch+1}/{num_epochs}], Loss: {loss.item():.4f}\")\n"
   ]
  },
  {
   "cell_type": "markdown",
   "metadata": {},
   "source": [
    "## Расчёт метрик"
   ]
  },
  {
   "cell_type": "code",
   "execution_count": 20,
   "metadata": {},
   "outputs": [
    {
     "name": "stdout",
     "output_type": "stream",
     "text": [
      "Test Accuracy: 75.40%\n"
     ]
    }
   ],
   "source": [
    "# Оценка точности модели на тестовом наборе данных\n",
    "model.eval()  # Устанавливаем модель в режим оценки\n",
    "correct = 0\n",
    "total = 0\n",
    "\n",
    "test_set = TensorDataset(X_test, y_test)\n",
    "\n",
    "with torch.no_grad():  # Градиенты не нужны при оценке\n",
    "    for X_batch, y_batch in test_set:  # data_loader - это DataLoader для тестовых данных\n",
    "        y_batch = y_batch.long()  # Приводим к нужному типу\n",
    "        y_pred = model(X_batch)  # Получаем предсказания (логиты)\n",
    "        predicted_labels = torch.argmax(y_pred)  # Индекс с максимальным значением — это класс\n",
    "        correct += (predicted_labels == y_batch).sum().item()\n",
    "        total += y_batch.size(0)\n",
    "\n",
    "accuracy = correct / total\n",
    "print(f\"Test Accuracy: {accuracy * 100:.2f}%\")"
   ]
  },
  {
   "cell_type": "markdown",
   "metadata": {},
   "source": [
    "# Регрессор"
   ]
  },
  {
   "cell_type": "markdown",
   "metadata": {},
   "source": [
    "## Описание датасета"
   ]
  },
  {
   "cell_type": "markdown",
   "metadata": {},
   "source": [
    "Согласно варианту в ходе работы используем датасет [«Wine Quality»](https://archive.ics.uci.edu/dataset/186/wine+quality). Этот набор данных содержит различные характеристики вина, а требуется предсказать полученное значение качества вина. "
   ]
  },
  {
   "cell_type": "code",
   "execution_count": 1,
   "metadata": {},
   "outputs": [
    {
     "name": "stdout",
     "output_type": "stream",
     "text": [
      "Collecting ucimlrepo\n",
      "  Downloading ucimlrepo-0.0.7-py3-none-any.whl.metadata (5.5 kB)\n",
      "Requirement already satisfied: pandas>=1.0.0 in c:\\users\\ruslan\\anaconda3\\lib\\site-packages (from ucimlrepo) (2.2.3)\n",
      "Requirement already satisfied: certifi>=2020.12.5 in c:\\users\\ruslan\\anaconda3\\lib\\site-packages (from ucimlrepo) (2024.12.14)\n",
      "Requirement already satisfied: numpy>=1.26.0 in c:\\users\\ruslan\\anaconda3\\lib\\site-packages (from pandas>=1.0.0->ucimlrepo) (1.26.4)\n",
      "Requirement already satisfied: python-dateutil>=2.8.2 in c:\\users\\ruslan\\appdata\\roaming\\python\\python312\\site-packages (from pandas>=1.0.0->ucimlrepo) (2.9.0.post0)\n",
      "Requirement already satisfied: pytz>=2020.1 in c:\\users\\ruslan\\anaconda3\\lib\\site-packages (from pandas>=1.0.0->ucimlrepo) (2024.1)\n",
      "Requirement already satisfied: tzdata>=2022.7 in c:\\users\\ruslan\\anaconda3\\lib\\site-packages (from pandas>=1.0.0->ucimlrepo) (2023.3)\n",
      "Requirement already satisfied: six>=1.5 in c:\\users\\ruslan\\appdata\\roaming\\python\\python312\\site-packages (from python-dateutil>=2.8.2->pandas>=1.0.0->ucimlrepo) (1.16.0)\n",
      "Downloading ucimlrepo-0.0.7-py3-none-any.whl (8.0 kB)\n",
      "Installing collected packages: ucimlrepo\n",
      "Successfully installed ucimlrepo-0.0.7\n",
      "Note: you may need to restart the kernel to use updated packages.\n"
     ]
    }
   ],
   "source": [
    "pip install ucimlrepo"
   ]
  },
  {
   "cell_type": "code",
   "execution_count": 144,
   "metadata": {},
   "outputs": [
    {
     "name": "stdout",
     "output_type": "stream",
     "text": [
      "   fixed_acidity  volatile_acidity  citric_acid  residual_sugar  chlorides  \\\n",
      "0            7.4              0.70         0.00             1.9      0.076   \n",
      "1            7.8              0.88         0.00             2.6      0.098   \n",
      "2            7.8              0.76         0.04             2.3      0.092   \n",
      "3           11.2              0.28         0.56             1.9      0.075   \n",
      "4            7.4              0.70         0.00             1.9      0.076   \n",
      "\n",
      "   free_sulfur_dioxide  total_sulfur_dioxide  density    pH  sulphates  \\\n",
      "0                 11.0                  34.0   0.9978  3.51       0.56   \n",
      "1                 25.0                  67.0   0.9968  3.20       0.68   \n",
      "2                 15.0                  54.0   0.9970  3.26       0.65   \n",
      "3                 17.0                  60.0   0.9980  3.16       0.58   \n",
      "4                 11.0                  34.0   0.9978  3.51       0.56   \n",
      "\n",
      "   alcohol  target  \n",
      "0      9.4       5  \n",
      "1      9.8       5  \n",
      "2      9.8       5  \n",
      "3      9.8       6  \n",
      "4      9.4       5  \n"
     ]
    }
   ],
   "source": [
    "import pandas as pd\n",
    "from ucimlrepo import fetch_ucirepo\n",
    "\n",
    "# Загружаем датасет\n",
    "wine_quality = fetch_ucirepo(id=186)\n",
    "\n",
    "# Преобразуем в DataFrame\n",
    "df = pd.DataFrame(wine_quality.data.features, columns=wine_quality.metadata.features)\n",
    "df['target'] = wine_quality.data.targets\n",
    "\n",
    "# Проверяем результат\n",
    "print(df.head())\n"
   ]
  },
  {
   "cell_type": "code",
   "execution_count": 145,
   "metadata": {},
   "outputs": [
    {
     "name": "stdout",
     "output_type": "stream",
     "text": [
      "                      fixed_acidity  volatile_acidity  citric_acid  \\\n",
      "fixed_acidity              1.000000          0.219008     0.324436   \n",
      "volatile_acidity           0.219008          1.000000    -0.377981   \n",
      "citric_acid                0.324436         -0.377981     1.000000   \n",
      "residual_sugar            -0.111981         -0.196011     0.142451   \n",
      "chlorides                  0.298195          0.377124     0.038998   \n",
      "free_sulfur_dioxide       -0.282735         -0.352557     0.133126   \n",
      "total_sulfur_dioxide      -0.329054         -0.414476     0.195242   \n",
      "density                    0.458910          0.271296     0.096154   \n",
      "pH                        -0.252700          0.261454    -0.329808   \n",
      "sulphates                  0.299568          0.225984     0.056197   \n",
      "alcohol                   -0.095452         -0.037640    -0.010493   \n",
      "target                    -0.076743         -0.265699     0.085532   \n",
      "\n",
      "                      residual_sugar  chlorides  free_sulfur_dioxide  \\\n",
      "fixed_acidity              -0.111981   0.298195            -0.282735   \n",
      "volatile_acidity           -0.196011   0.377124            -0.352557   \n",
      "citric_acid                 0.142451   0.038998             0.133126   \n",
      "residual_sugar              1.000000  -0.128940             0.402871   \n",
      "chlorides                  -0.128940   1.000000            -0.195045   \n",
      "free_sulfur_dioxide         0.402871  -0.195045             1.000000   \n",
      "total_sulfur_dioxide        0.495482  -0.279630             0.720934   \n",
      "density                     0.552517   0.362615             0.025717   \n",
      "pH                         -0.267320   0.044708            -0.145854   \n",
      "sulphates                  -0.185927   0.395593            -0.188457   \n",
      "alcohol                    -0.359415  -0.256916            -0.179838   \n",
      "target                     -0.036980  -0.200666             0.055463   \n",
      "\n",
      "                      total_sulfur_dioxide   density        pH  sulphates  \\\n",
      "fixed_acidity                    -0.329054  0.458910 -0.252700   0.299568   \n",
      "volatile_acidity                 -0.414476  0.271296  0.261454   0.225984   \n",
      "citric_acid                       0.195242  0.096154 -0.329808   0.056197   \n",
      "residual_sugar                    0.495482  0.552517 -0.267320  -0.185927   \n",
      "chlorides                        -0.279630  0.362615  0.044708   0.395593   \n",
      "free_sulfur_dioxide               0.720934  0.025717 -0.145854  -0.188457   \n",
      "total_sulfur_dioxide              1.000000  0.032395 -0.238413  -0.275727   \n",
      "density                           0.032395  1.000000  0.011686   0.259478   \n",
      "pH                               -0.238413  0.011686  1.000000   0.192123   \n",
      "sulphates                        -0.275727  0.259478  0.192123   1.000000   \n",
      "alcohol                          -0.265740 -0.686745  0.121248  -0.003029   \n",
      "target                           -0.041385 -0.305858  0.019506   0.038485   \n",
      "\n",
      "                       alcohol    target  \n",
      "fixed_acidity        -0.095452 -0.076743  \n",
      "volatile_acidity     -0.037640 -0.265699  \n",
      "citric_acid          -0.010493  0.085532  \n",
      "residual_sugar       -0.359415 -0.036980  \n",
      "chlorides            -0.256916 -0.200666  \n",
      "free_sulfur_dioxide  -0.179838  0.055463  \n",
      "total_sulfur_dioxide -0.265740 -0.041385  \n",
      "density              -0.686745 -0.305858  \n",
      "pH                    0.121248  0.019506  \n",
      "sulphates            -0.003029  0.038485  \n",
      "alcohol               1.000000  0.444319  \n",
      "target                0.444319  1.000000  \n"
     ]
    }
   ],
   "source": [
    "import pandas as pd\n",
    "\n",
    "# Предположим, что у вас уже есть DataFrame df\n",
    "correlation_matrix = df.corr()\n",
    "\n",
    "# Печать корреляционной матрицы\n",
    "print(correlation_matrix)\n"
   ]
  },
  {
   "cell_type": "code",
   "execution_count": 146,
   "metadata": {},
   "outputs": [
    {
     "data": {
      "text/plain": [
       "Index(['fixed_acidity', 'volatile_acidity', 'citric_acid', 'residual_sugar',\n",
       "       'chlorides', 'free_sulfur_dioxide', 'total_sulfur_dioxide', 'density',\n",
       "       'pH', 'sulphates', 'alcohol', 'target'],\n",
       "      dtype='object')"
      ]
     },
     "execution_count": 146,
     "metadata": {},
     "output_type": "execute_result"
    }
   ],
   "source": [
    "df.columns"
   ]
  },
  {
   "cell_type": "code",
   "execution_count": 147,
   "metadata": {},
   "outputs": [
    {
     "data": {
      "text/plain": [
       "array([5, 6, 7, 4, 8, 3, 9], dtype=int64)"
      ]
     },
     "execution_count": 147,
     "metadata": {},
     "output_type": "execute_result"
    }
   ],
   "source": [
    "df['target'].unique()"
   ]
  },
  {
   "cell_type": "code",
   "execution_count": 148,
   "metadata": {},
   "outputs": [
    {
     "name": "stdout",
     "output_type": "stream",
     "text": [
      "X_train shape: (5197, 11)\n",
      " y_train shape: (5197,)\n",
      " X_test shape: (1300, 11)\n",
      " y_test shape: (1300,)\n"
     ]
    }
   ],
   "source": [
    "from sklearn.model_selection import train_test_split\n",
    "\n",
    "y = df['target']\n",
    "X = df.drop(['target'], axis = 1)\n",
    "\n",
    "X_train, X_test, y_train, y_test = train_test_split(X, y, test_size=0.2, random_state=42)\n",
    "print(f'X_train shape: {X_train.shape}\\n y_train shape: {y_train.shape}\\n X_test shape: {X_test.shape}\\n y_test shape: {y_test.shape}')"
   ]
  },
  {
   "cell_type": "code",
   "execution_count": 149,
   "metadata": {},
   "outputs": [],
   "source": [
    "from sklearn.preprocessing import MinMaxScaler\n",
    "\n",
    "min_max_scaler = MinMaxScaler()\n",
    "\n",
    "X_train = min_max_scaler.fit_transform(X_train)\n",
    "X_test = min_max_scaler.transform(X_test)\n",
    "\n",
    "X_train_saved = X_train\n",
    "X_test_saved = X_test\n",
    "y_train_saved = y_train\n",
    "y_test_saved = y_test"
   ]
  },
  {
   "cell_type": "markdown",
   "metadata": {},
   "source": [
    "И собираем тензоры для PyTorch"
   ]
  },
  {
   "cell_type": "code",
   "execution_count": 150,
   "metadata": {},
   "outputs": [],
   "source": [
    "import torch\n",
    "\n",
    "X_train = torch.tensor(X_train, dtype=torch.float32)\n",
    "X_test = torch.tensor(X_test, dtype=torch.float32)\n",
    "y_train = torch.tensor(y_train.to_numpy(), dtype=torch.float32).view(-1, 1)\n",
    "y_test = torch.tensor(y_test.to_numpy(), dtype=torch.float32).view(-1, 1)"
   ]
  },
  {
   "cell_type": "markdown",
   "metadata": {},
   "source": [
    "## Модель регрессора"
   ]
  },
  {
   "cell_type": "markdown",
   "metadata": {},
   "source": [
    "### Создание модели"
   ]
  },
  {
   "cell_type": "code",
   "execution_count": 140,
   "metadata": {},
   "outputs": [],
   "source": [
    "import torch\n",
    "\n",
    "class Regressor(torch.nn.Module):\n",
    "    def __init__(self):\n",
    "        super(Regressor, self).__init__()\n",
    "        self.model = torch.nn.Sequential(\n",
    "            torch.nn.Linear(11, 64),\n",
    "            torch.nn.Linear(64, 128),\n",
    "            torch.nn.Linear(128,256),\n",
    "            torch.nn.Linear(256, 1)\n",
    "        )\n",
    "    \n",
    "    def forward(self, x):\n",
    "        return self.model(x)\n"
   ]
  },
  {
   "cell_type": "markdown",
   "metadata": {},
   "source": [
    "### Обучение модели"
   ]
  },
  {
   "cell_type": "code",
   "execution_count": 141,
   "metadata": {},
   "outputs": [
    {
     "name": "stdout",
     "output_type": "stream",
     "text": [
      "Epoch [1/100], Train Loss: 1.2558, Test Loss: 0.5978\n",
      "Epoch [2/100], Train Loss: 0.6064, Test Loss: 0.6703\n",
      "Epoch [3/100], Train Loss: 0.5920, Test Loss: 0.6058\n",
      "Epoch [4/100], Train Loss: 0.5759, Test Loss: 0.5699\n",
      "Epoch [5/100], Train Loss: 0.5756, Test Loss: 1.3248\n",
      "Epoch [6/100], Train Loss: 0.5901, Test Loss: 0.5908\n",
      "Epoch [7/100], Train Loss: 0.5685, Test Loss: 0.5630\n",
      "Epoch [8/100], Train Loss: 0.5725, Test Loss: 0.7263\n",
      "Epoch [9/100], Train Loss: 0.5665, Test Loss: 0.5434\n",
      "Epoch [10/100], Train Loss: 0.5664, Test Loss: 0.5895\n",
      "Epoch [11/100], Train Loss: 0.5672, Test Loss: 0.5578\n",
      "Epoch [12/100], Train Loss: 0.5644, Test Loss: 0.5433\n",
      "Epoch [13/100], Train Loss: 0.5633, Test Loss: 0.6255\n",
      "Epoch [14/100], Train Loss: 0.5683, Test Loss: 0.6218\n",
      "Epoch [15/100], Train Loss: 0.5750, Test Loss: 0.5656\n",
      "Epoch [16/100], Train Loss: 0.5691, Test Loss: 0.5448\n",
      "Epoch [17/100], Train Loss: 0.5616, Test Loss: 0.8341\n",
      "Epoch [18/100], Train Loss: 0.5716, Test Loss: 0.5467\n",
      "Epoch [19/100], Train Loss: 0.5582, Test Loss: 0.5447\n",
      "Epoch [20/100], Train Loss: 0.5648, Test Loss: 0.5439\n",
      "Epoch [21/100], Train Loss: 0.5535, Test Loss: 0.5436\n",
      "Epoch [22/100], Train Loss: 0.5662, Test Loss: 0.6384\n",
      "Epoch [23/100], Train Loss: 0.5617, Test Loss: 0.5757\n",
      "Epoch [24/100], Train Loss: 0.5589, Test Loss: 0.5530\n",
      "Epoch [25/100], Train Loss: 0.5685, Test Loss: 0.6416\n",
      "Epoch [26/100], Train Loss: 0.5615, Test Loss: 0.5538\n",
      "Epoch [27/100], Train Loss: 0.5607, Test Loss: 0.5610\n",
      "Epoch [28/100], Train Loss: 0.5552, Test Loss: 0.6303\n",
      "Epoch [29/100], Train Loss: 0.5623, Test Loss: 0.6095\n",
      "Epoch [30/100], Train Loss: 0.5589, Test Loss: 0.5469\n",
      "Epoch [31/100], Train Loss: 0.5662, Test Loss: 0.5452\n",
      "Epoch [32/100], Train Loss: 0.5582, Test Loss: 0.5480\n",
      "Epoch [33/100], Train Loss: 0.5512, Test Loss: 0.5813\n",
      "Epoch [34/100], Train Loss: 0.5589, Test Loss: 0.5600\n",
      "Epoch [35/100], Train Loss: 0.5537, Test Loss: 0.5436\n",
      "Epoch [36/100], Train Loss: 0.5626, Test Loss: 0.5528\n",
      "Epoch [37/100], Train Loss: 0.5546, Test Loss: 0.6648\n",
      "Epoch [38/100], Train Loss: 0.5595, Test Loss: 0.5464\n",
      "Epoch [39/100], Train Loss: 0.5557, Test Loss: 0.5673\n",
      "Epoch [40/100], Train Loss: 0.5558, Test Loss: 0.7546\n",
      "Epoch [41/100], Train Loss: 0.5559, Test Loss: 0.6762\n",
      "Epoch [42/100], Train Loss: 0.5553, Test Loss: 0.5441\n",
      "Epoch [43/100], Train Loss: 0.5566, Test Loss: 0.6200\n",
      "Epoch [44/100], Train Loss: 0.5586, Test Loss: 0.5671\n",
      "Epoch [45/100], Train Loss: 0.5587, Test Loss: 0.7397\n",
      "Epoch [46/100], Train Loss: 0.5548, Test Loss: 0.5504\n",
      "Epoch [47/100], Train Loss: 0.5544, Test Loss: 0.7503\n",
      "Epoch [48/100], Train Loss: 0.5554, Test Loss: 0.5654\n",
      "Epoch [49/100], Train Loss: 0.5541, Test Loss: 0.5481\n",
      "Epoch [50/100], Train Loss: 0.5552, Test Loss: 0.5444\n",
      "Epoch [51/100], Train Loss: 0.5553, Test Loss: 0.5526\n",
      "Epoch [52/100], Train Loss: 0.5580, Test Loss: 0.5820\n",
      "Epoch [53/100], Train Loss: 0.5567, Test Loss: 0.6654\n",
      "Epoch [54/100], Train Loss: 0.5546, Test Loss: 0.5481\n",
      "Epoch [55/100], Train Loss: 0.5578, Test Loss: 0.5716\n",
      "Epoch [56/100], Train Loss: 0.5544, Test Loss: 0.5453\n",
      "Epoch [57/100], Train Loss: 0.5539, Test Loss: 0.5678\n",
      "Epoch [58/100], Train Loss: 0.5555, Test Loss: 0.5536\n",
      "Epoch [59/100], Train Loss: 0.5513, Test Loss: 0.5557\n",
      "Epoch [60/100], Train Loss: 0.5525, Test Loss: 0.5446\n",
      "Epoch [61/100], Train Loss: 0.5524, Test Loss: 0.5490\n",
      "Epoch [62/100], Train Loss: 0.5515, Test Loss: 0.5438\n",
      "Epoch [63/100], Train Loss: 0.5555, Test Loss: 0.5532\n",
      "Epoch [64/100], Train Loss: 0.5553, Test Loss: 0.5621\n",
      "Epoch [65/100], Train Loss: 0.5512, Test Loss: 0.5588\n",
      "Epoch [66/100], Train Loss: 0.5522, Test Loss: 0.5516\n",
      "Epoch [67/100], Train Loss: 0.5514, Test Loss: 0.5765\n",
      "Epoch [68/100], Train Loss: 0.5530, Test Loss: 0.5444\n",
      "Epoch [69/100], Train Loss: 0.5527, Test Loss: 0.6036\n",
      "Epoch [70/100], Train Loss: 0.5543, Test Loss: 0.5500\n",
      "Epoch [71/100], Train Loss: 0.5527, Test Loss: 0.5586\n",
      "Epoch [72/100], Train Loss: 0.5511, Test Loss: 0.5495\n",
      "Epoch [73/100], Train Loss: 0.5520, Test Loss: 0.5820\n",
      "Epoch [74/100], Train Loss: 0.5489, Test Loss: 0.5894\n",
      "Epoch [75/100], Train Loss: 0.5477, Test Loss: 0.5435\n",
      "Epoch [76/100], Train Loss: 0.5507, Test Loss: 0.6498\n",
      "Epoch [77/100], Train Loss: 0.5554, Test Loss: 0.5578\n",
      "Epoch [78/100], Train Loss: 0.5494, Test Loss: 0.5564\n",
      "Epoch [79/100], Train Loss: 0.5524, Test Loss: 0.5693\n",
      "Epoch [80/100], Train Loss: 0.5472, Test Loss: 0.5442\n",
      "Epoch [81/100], Train Loss: 0.5502, Test Loss: 0.5646\n",
      "Epoch [82/100], Train Loss: 0.5507, Test Loss: 0.5441\n",
      "Epoch [83/100], Train Loss: 0.5520, Test Loss: 0.5698\n",
      "Epoch [84/100], Train Loss: 0.5549, Test Loss: 0.5803\n",
      "Epoch [85/100], Train Loss: 0.5493, Test Loss: 0.5574\n",
      "Epoch [86/100], Train Loss: 0.5547, Test Loss: 0.5965\n",
      "Epoch [87/100], Train Loss: 0.5517, Test Loss: 0.5534\n",
      "Epoch [88/100], Train Loss: 0.5562, Test Loss: 0.5494\n",
      "Epoch [89/100], Train Loss: 0.5543, Test Loss: 0.5458\n",
      "Epoch [90/100], Train Loss: 0.5517, Test Loss: 0.5728\n",
      "Epoch [91/100], Train Loss: 0.5509, Test Loss: 0.5643\n",
      "Epoch [92/100], Train Loss: 0.5514, Test Loss: 0.5777\n",
      "Epoch [93/100], Train Loss: 0.5490, Test Loss: 0.5688\n",
      "Epoch [94/100], Train Loss: 0.5545, Test Loss: 0.5530\n",
      "Epoch [95/100], Train Loss: 0.5512, Test Loss: 0.5464\n",
      "Epoch [96/100], Train Loss: 0.5504, Test Loss: 0.5858\n",
      "Epoch [97/100], Train Loss: 0.5502, Test Loss: 0.6360\n",
      "Epoch [98/100], Train Loss: 0.5490, Test Loss: 0.5453\n",
      "Epoch [99/100], Train Loss: 0.5518, Test Loss: 0.5481\n",
      "Epoch [100/100], Train Loss: 0.5498, Test Loss: 0.5604\n"
     ]
    },
    {
     "data": {
      "image/png": "[encoded data removed]",
      "text/plain": [
       "<Figure size 640x480 with 1 Axes>"
      ]
     },
     "metadata": {},
     "output_type": "display_data"
    }
   ],
   "source": [
    "import torch\n",
    "import torch.nn as nn\n",
    "import torch.optim as optim\n",
    "from torch.utils.data import DataLoader, TensorDataset\n",
    "import matplotlib.pyplot as plt\n",
    "\n",
    "batch_size = 32\n",
    "num_epochs = 100\n",
    "learning_rate = 0.01\n",
    "\n",
    "model = Regressor()\n",
    "criterion = nn.MSELoss()\n",
    "optimizer = optim.SGD(model.parameters(), lr=learning_rate)\n",
    "\n",
    "train_dataset = TensorDataset(X_train, y_train)\n",
    "train_loader = DataLoader(train_dataset, batch_size=batch_size, shuffle=True)\n",
    "\n",
    "test_dataset = TensorDataset(X_test, y_test)  # Для тестовой выборки\n",
    "test_loader = DataLoader(test_dataset, batch_size=batch_size, shuffle=False)\n",
    "\n",
    "train_losses = []\n",
    "test_losses = []\n",
    "\n",
    "for epoch in range(num_epochs):\n",
    "    model.train()  # Переводим модель в режим обучения\n",
    "    train_loss = 0.0\n",
    "    for X_batch, y_batch in train_loader:\n",
    "        # Прямой проход\n",
    "        y_pred = model(X_batch)\n",
    "        loss = criterion(y_pred, y_batch)\n",
    "\n",
    "        # Обратное распространение ошибки\n",
    "        optimizer.zero_grad()\n",
    "        loss.backward()\n",
    "        optimizer.step()\n",
    "\n",
    "        train_loss += loss.item()\n",
    "\n",
    "    train_losses.append(train_loss / len(train_loader))  # Среднее значение потерь для тренировки\n",
    "\n",
    "    # Оценка на тестовой выборке\n",
    "    model.eval()  # Переводим модель в режим оценки (без градиентов)\n",
    "    test_loss = 0.0\n",
    "    with torch.no_grad():  # Не нужно вычислять градиенты\n",
    "        for X_batch, y_batch in test_loader:\n",
    "            y_pred = model(X_batch)\n",
    "            loss = criterion(y_pred, y_batch)\n",
    "            test_loss += loss.item()\n",
    "\n",
    "    test_losses.append(test_loss / len(test_loader))  # Среднее значение потерь для теста\n",
    "\n",
    "    print(f\"Epoch [{epoch+1}/{num_epochs}], Train Loss: {train_losses[-1]:.4f}, Test Loss: {test_losses[-1]:.4f}\")\n",
    "\n",
    "# Построение графика\n",
    "plt.plot(range(num_epochs), train_losses, label='Train Loss')\n",
    "plt.plot(range(num_epochs), test_losses, label='Test Loss')\n",
    "plt.xlabel('Epochs')\n",
    "plt.ylabel('Loss')\n",
    "plt.legend()\n",
    "plt.title('Loss vs Epochs')\n",
    "plt.show()\n"
   ]
  },
  {
   "cell_type": "markdown",
   "metadata": {},
   "source": [
    "### Расчёт метрик"
   ]
  },
  {
   "cell_type": "code",
   "execution_count": 46,
   "metadata": {},
   "outputs": [
    {
     "name": "stdout",
     "output_type": "stream",
     "text": [
      "torch.Size([1300, 11])\n",
      "torch.Size([1300, 4])\n"
     ]
    }
   ],
   "source": [
    "print(X_test.shape)\n",
    "print(y_pred.shape)"
   ]
  },
  {
   "cell_type": "code",
   "execution_count": 97,
   "metadata": {},
   "outputs": [
    {
     "data": {
      "image/png": "[encoded data removed]",
      "text/plain": [
       "<Figure size 640x480 with 1 Axes>"
      ]
     },
     "metadata": {},
     "output_type": "display_data"
    }
   ],
   "source": [
    "# Оценка точности модели на тестовом наборе данных\n",
    "model.eval()  # Устанавливаем модель в режим оценки\n",
    "correct = 0\n",
    "total = 0\n",
    "\n",
    "\n",
    "with torch.no_grad():  # Градиенты не нужны при оценке\n",
    "    y_pred = model(X_test)  # Получаем предсказания\n",
    "\n",
    "y_pred = pd.DataFrame(y_pred)\n",
    "\n",
    "y_test.shape\n",
    "X_test_saved = pd.DataFrame(X_test_saved)\n",
    "a = X_test_saved[0].to_numpy()\n",
    "plt.scatter(a, y_test, color = 'blue', label = 'исходные данные')\n",
    "plt.scatter(a, y_pred, color = 'red', label = 'предсказанные значения')\n",
    "plt.xlabel('alcohol')\n",
    "plt.ylabel('quality')\n",
    "plt.legend()\n",
    "plt.show()"
   ]
  },
  {
   "cell_type": "markdown",
   "metadata": {},
   "source": [
    "## Модель мультиклассовой классификатора из п2"
   ]
  },
  {
   "cell_type": "markdown",
   "metadata": {},
   "source": [
    "### Создание модели"
   ]
  },
  {
   "cell_type": "code",
   "execution_count": 155,
   "metadata": {},
   "outputs": [],
   "source": [
    "import torch\n",
    "\n",
    "class Classifier(torch.nn.Module):\n",
    "    def __init__(self):\n",
    "        super(Classifier, self).__init__()\n",
    "        self.model = torch.nn.Sequential(\n",
    "            torch.nn.Linear(11, 64),\n",
    "            torch.nn.ReLU(),\n",
    "            torch.nn.Linear(64, 128),\n",
    "            torch.nn.ReLU(),\n",
    "            torch.nn.Linear(128,128),\n",
    "            torch.nn.ReLU(),\n",
    "            torch.nn.Linear(128, 10)\n",
    "        )\n",
    "    \n",
    "    def forward(self, x):\n",
    "        return self.model(x)\n"
   ]
  },
  {
   "cell_type": "markdown",
   "metadata": {},
   "source": [
    "### Обучение модели"
   ]
  },
  {
   "cell_type": "code",
   "execution_count": 156,
   "metadata": {},
   "outputs": [
    {
     "name": "stdout",
     "output_type": "stream",
     "text": [
      "Epoch [1/100], Loss: 0.8991\n",
      "Epoch [2/100], Loss: 0.8876\n",
      "Epoch [3/100], Loss: 1.1635\n",
      "Epoch [4/100], Loss: 1.1695\n",
      "Epoch [5/100], Loss: 0.8004\n",
      "Epoch [6/100], Loss: 1.1622\n",
      "Epoch [7/100], Loss: 1.1267\n",
      "Epoch [8/100], Loss: 0.6722\n",
      "Epoch [9/100], Loss: 1.3558\n",
      "Epoch [10/100], Loss: 1.0984\n",
      "Epoch [11/100], Loss: 0.9319\n",
      "Epoch [12/100], Loss: 0.8770\n",
      "Epoch [13/100], Loss: 1.3232\n",
      "Epoch [14/100], Loss: 1.2391\n",
      "Epoch [15/100], Loss: 1.0238\n",
      "Epoch [16/100], Loss: 1.0605\n",
      "Epoch [17/100], Loss: 1.3780\n",
      "Epoch [18/100], Loss: 0.8883\n",
      "Epoch [19/100], Loss: 1.2132\n",
      "Epoch [20/100], Loss: 1.1180\n",
      "Epoch [21/100], Loss: 0.9301\n",
      "Epoch [22/100], Loss: 0.9788\n",
      "Epoch [23/100], Loss: 0.8468\n",
      "Epoch [24/100], Loss: 1.2459\n",
      "Epoch [25/100], Loss: 1.5259\n",
      "Epoch [26/100], Loss: 1.6666\n",
      "Epoch [27/100], Loss: 1.3714\n",
      "Epoch [28/100], Loss: 0.8110\n",
      "Epoch [29/100], Loss: 0.8815\n",
      "Epoch [30/100], Loss: 1.1717\n",
      "Epoch [31/100], Loss: 0.8280\n",
      "Epoch [32/100], Loss: 0.7849\n",
      "Epoch [33/100], Loss: 0.9179\n",
      "Epoch [34/100], Loss: 1.1099\n",
      "Epoch [35/100], Loss: 0.9681\n",
      "Epoch [36/100], Loss: 0.9739\n",
      "Epoch [37/100], Loss: 1.0189\n",
      "Epoch [38/100], Loss: 0.6632\n",
      "Epoch [39/100], Loss: 1.0367\n",
      "Epoch [40/100], Loss: 0.7366\n",
      "Epoch [41/100], Loss: 0.9655\n",
      "Epoch [42/100], Loss: 1.3819\n",
      "Epoch [43/100], Loss: 1.0617\n",
      "Epoch [44/100], Loss: 0.8601\n",
      "Epoch [45/100], Loss: 0.9481\n",
      "Epoch [46/100], Loss: 0.8719\n",
      "Epoch [47/100], Loss: 0.6447\n",
      "Epoch [48/100], Loss: 1.0032\n",
      "Epoch [49/100], Loss: 1.1532\n",
      "Epoch [50/100], Loss: 1.1853\n",
      "Epoch [51/100], Loss: 0.8986\n",
      "Epoch [52/100], Loss: 1.1020\n",
      "Epoch [53/100], Loss: 0.6181\n",
      "Epoch [54/100], Loss: 0.5977\n",
      "Epoch [55/100], Loss: 0.8607\n",
      "Epoch [56/100], Loss: 0.9220\n",
      "Epoch [57/100], Loss: 1.0832\n",
      "Epoch [58/100], Loss: 1.0667\n",
      "Epoch [59/100], Loss: 0.9642\n",
      "Epoch [60/100], Loss: 0.8950\n",
      "Epoch [61/100], Loss: 0.9206\n",
      "Epoch [62/100], Loss: 0.7883\n",
      "Epoch [63/100], Loss: 1.0165\n",
      "Epoch [64/100], Loss: 0.9833\n",
      "Epoch [65/100], Loss: 0.7927\n",
      "Epoch [66/100], Loss: 0.9425\n",
      "Epoch [67/100], Loss: 1.2944\n",
      "Epoch [68/100], Loss: 0.8342\n",
      "Epoch [69/100], Loss: 1.0946\n",
      "Epoch [70/100], Loss: 1.0332\n",
      "Epoch [71/100], Loss: 0.7360\n",
      "Epoch [72/100], Loss: 0.9685\n",
      "Epoch [73/100], Loss: 0.7573\n",
      "Epoch [74/100], Loss: 1.2044\n",
      "Epoch [75/100], Loss: 1.1312\n",
      "Epoch [76/100], Loss: 0.8128\n",
      "Epoch [77/100], Loss: 0.7807\n",
      "Epoch [78/100], Loss: 0.7519\n",
      "Epoch [79/100], Loss: 1.7714\n",
      "Epoch [80/100], Loss: 0.6002\n",
      "Epoch [81/100], Loss: 0.8859\n",
      "Epoch [82/100], Loss: 0.8126\n",
      "Epoch [83/100], Loss: 0.7501\n",
      "Epoch [84/100], Loss: 0.8470\n",
      "Epoch [85/100], Loss: 0.7810\n",
      "Epoch [86/100], Loss: 1.1350\n",
      "Epoch [87/100], Loss: 0.9069\n",
      "Epoch [88/100], Loss: 0.9999\n",
      "Epoch [89/100], Loss: 0.8724\n",
      "Epoch [90/100], Loss: 0.6991\n",
      "Epoch [91/100], Loss: 0.8846\n",
      "Epoch [92/100], Loss: 0.9930\n",
      "Epoch [93/100], Loss: 0.7284\n",
      "Epoch [94/100], Loss: 1.0954\n",
      "Epoch [95/100], Loss: 0.8728\n",
      "Epoch [96/100], Loss: 1.0395\n",
      "Epoch [97/100], Loss: 0.7803\n",
      "Epoch [98/100], Loss: 0.7984\n",
      "Epoch [99/100], Loss: 0.6338\n",
      "Epoch [100/100], Loss: 0.7853\n"
     ]
    }
   ],
   "source": [
    "import torch\n",
    "import torch.nn as nn\n",
    "import torch.optim as optim\n",
    "from torch.utils.data import DataLoader, TensorDataset\n",
    "\n",
    "batch_size = 32\n",
    "num_epochs = 100\n",
    "learning_rate = 0.001\n",
    "\n",
    "model = Classifier()\n",
    "criterion = nn.CrossEntropyLoss()\n",
    "optimizer = optim.Adam(model.parameters(), lr=learning_rate)\n",
    "\n",
    "train_dataset = TensorDataset(X_train, y_train)\n",
    "train_loader = DataLoader(train_dataset, batch_size=batch_size, shuffle=True)\n",
    "\n",
    "for epoch in range(num_epochs):\n",
    "    for X_batch, y_batch in train_loader:\n",
    "        y_batch = y_batch.squeeze(dim=1).long()\n",
    "        # Прямой проход\n",
    "        y_pred = model(X_batch)\n",
    "        loss = criterion(y_pred, y_batch)\n",
    "\n",
    "        # Обратное распространение ошибки\n",
    "        optimizer.zero_grad()\n",
    "        loss.backward()\n",
    "        optimizer.step()\n",
    "\n",
    "    print(f\"Epoch [{epoch+1}/{num_epochs}], Loss: {loss.item():.4f}\")\n"
   ]
  },
  {
   "cell_type": "markdown",
   "metadata": {},
   "source": [
    "##№ Расчёт метрик"
   ]
  },
  {
   "cell_type": "code",
   "execution_count": 107,
   "metadata": {},
   "outputs": [
    {
     "data": {
      "text/plain": [
       "torch.Size([1300, 11])"
      ]
     },
     "execution_count": 107,
     "metadata": {},
     "output_type": "execute_result"
    }
   ],
   "source": [
    "X_test.shape"
   ]
  },
  {
   "cell_type": "code",
   "execution_count": 120,
   "metadata": {},
   "outputs": [
    {
     "data": {
      "text/plain": [
       "tensor([5])"
      ]
     },
     "execution_count": 120,
     "metadata": {},
     "output_type": "execute_result"
    }
   ],
   "source": [
    "y_pred\n"
   ]
  },
  {
   "cell_type": "code",
   "execution_count": 159,
   "metadata": {},
   "outputs": [
    {
     "name": "stdout",
     "output_type": "stream",
     "text": [
      "Test Accuracy: 12.22%\n"
     ]
    }
   ],
   "source": [
    "from torch.utils.data import DataLoader\n",
    "\n",
    "# Устанавливаем модель в режим оценки\n",
    "model.eval()\n",
    "\n",
    "correct = 0\n",
    "total = 0\n",
    "\n",
    "# Создаем DataLoader для тестовых данных\n",
    "test_loader = DataLoader(TensorDataset(X_test, y_test), batch_size=32, shuffle=False)\n",
    "\n",
    "with torch.no_grad():  # Градиенты не нужны при оценке\n",
    "    for X_batch, y_batch in test_loader:\n",
    "        y_batch = y_batch.long()  # Приводим к нужному типу\n",
    "        y_pred = model(X_batch)  # Получаем предсказания (логиты)\n",
    "        _, predicted = torch.max(y_pred, 1)  # Получаем предсказанные метки классов\n",
    "        \n",
    "        total += y_batch.size(0)\n",
    "        correct += (predicted == y_batch).sum().item()\n",
    "\n",
    "# Расчет точности\n",
    "accuracy = correct / total\n",
    "print(f\"Test Accuracy: {accuracy:.2f}%\")"
   ]
  },
  {
   "cell_type": "code",
   "execution_count": 160,
   "metadata": {},
   "outputs": [
    {
     "name": "stdout",
     "output_type": "stream",
     "text": [
      "              precision    recall  f1-score   support\n",
      "\n",
      "           3       0.33      0.17      0.22         6\n",
      "           4       0.27      0.09      0.14        43\n",
      "           5       0.61      0.58      0.60       402\n",
      "           6       0.58      0.73      0.65       597\n",
      "           7       0.62      0.37      0.47       215\n",
      "           8       0.38      0.08      0.14        36\n",
      "           9       0.00      0.00      0.00         1\n",
      "\n",
      "    accuracy                           0.59      1300\n",
      "   macro avg       0.40      0.29      0.31      1300\n",
      "weighted avg       0.58      0.59      0.57      1300\n",
      "\n",
      "[[  1   1   2   2   0   0   0]\n",
      " [  1   4  23  15   0   0   0]\n",
      " [  1   9 235 150   6   1   0]\n",
      " [  0   1 121 438  34   3   0]\n",
      " [  0   0   3 131  80   1   0]\n",
      " [  0   0   0  25   8   3   0]\n",
      " [  0   0   0   0   1   0   0]]\n"
     ]
    },
    {
     "name": "stderr",
     "output_type": "stream",
     "text": [
      "c:\\Users\\Ruslan\\anaconda3\\Lib\\site-packages\\sklearn\\metrics\\_classification.py:1531: UndefinedMetricWarning: Precision is ill-defined and being set to 0.0 in labels with no predicted samples. Use `zero_division` parameter to control this behavior.\n",
      "  _warn_prf(average, modifier, f\"{metric.capitalize()} is\", len(result))\n",
      "c:\\Users\\Ruslan\\anaconda3\\Lib\\site-packages\\sklearn\\metrics\\_classification.py:1531: UndefinedMetricWarning: Precision is ill-defined and being set to 0.0 in labels with no predicted samples. Use `zero_division` parameter to control this behavior.\n",
      "  _warn_prf(average, modifier, f\"{metric.capitalize()} is\", len(result))\n",
      "c:\\Users\\Ruslan\\anaconda3\\Lib\\site-packages\\sklearn\\metrics\\_classification.py:1531: UndefinedMetricWarning: Precision is ill-defined and being set to 0.0 in labels with no predicted samples. Use `zero_division` parameter to control this behavior.\n",
      "  _warn_prf(average, modifier, f\"{metric.capitalize()} is\", len(result))\n"
     ]
    }
   ],
   "source": [
    "from sklearn.metrics import classification_report, confusion_matrix\n",
    "\n",
    "# Собираем все предсказания и истинные метки\n",
    "all_preds = []\n",
    "all_labels = []\n",
    "\n",
    "with torch.no_grad():\n",
    "    for X_batch, y_batch in test_loader:\n",
    "        y_batch = y_batch.long()\n",
    "        y_pred = model(X_batch)\n",
    "        _, predicted = torch.max(y_pred, 1)\n",
    "        \n",
    "        all_preds.extend(predicted.cpu().numpy())\n",
    "        all_labels.extend(y_batch.cpu().numpy())\n",
    "\n",
    "# Выводим отчет о классификации\n",
    "print(classification_report(all_labels, all_preds))\n",
    "\n",
    "# Выводим матрицу ошибок\n",
    "print(confusion_matrix(all_labels, all_preds))"
   ]
  },
  {
   "cell_type": "markdown",
   "metadata": {},
   "source": [
    "## Переворачиваем датасет, вводим t-sne"
   ]
  },
  {
   "cell_type": "code",
   "execution_count": 190,
   "metadata": {},
   "outputs": [
    {
     "name": "stdout",
     "output_type": "stream",
     "text": [
      "   fixed_acidity  volatile_acidity  citric_acid  residual_sugar  chlorides  \\\n",
      "0            7.4              0.70         0.00             1.9      0.076   \n",
      "1            7.8              0.88         0.00             2.6      0.098   \n",
      "2            7.8              0.76         0.04             2.3      0.092   \n",
      "3           11.2              0.28         0.56             1.9      0.075   \n",
      "4            7.4              0.70         0.00             1.9      0.076   \n",
      "\n",
      "   free_sulfur_dioxide  total_sulfur_dioxide  density    pH  sulphates  \\\n",
      "0                 11.0                  34.0   0.9978  3.51       0.56   \n",
      "1                 25.0                  67.0   0.9968  3.20       0.68   \n",
      "2                 15.0                  54.0   0.9970  3.26       0.65   \n",
      "3                 17.0                  60.0   0.9980  3.16       0.58   \n",
      "4                 11.0                  34.0   0.9978  3.51       0.56   \n",
      "\n",
      "   alcohol  target  \n",
      "0      9.4       5  \n",
      "1      9.8       5  \n",
      "2      9.8       5  \n",
      "3      9.8       6  \n",
      "4      9.4       5  \n"
     ]
    }
   ],
   "source": [
    "import pandas as pd\n",
    "from ucimlrepo import fetch_ucirepo\n",
    "\n",
    "# Загружаем датасет\n",
    "wine_quality = fetch_ucirepo(id=186)\n",
    "\n",
    "# Преобразуем в DataFrame\n",
    "df = pd.DataFrame(wine_quality.data.features, columns=wine_quality.metadata.features)\n",
    "df['target'] = wine_quality.data.targets\n",
    "\n",
    "# Проверяем результат\n",
    "print(df.head())\n"
   ]
  },
  {
   "cell_type": "code",
   "execution_count": 191,
   "metadata": {},
   "outputs": [
    {
     "name": "stdout",
     "output_type": "stream",
     "text": [
      "                      fixed_acidity  volatile_acidity  citric_acid  \\\n",
      "fixed_acidity              1.000000          0.219008     0.324436   \n",
      "volatile_acidity           0.219008          1.000000    -0.377981   \n",
      "citric_acid                0.324436         -0.377981     1.000000   \n",
      "residual_sugar            -0.111981         -0.196011     0.142451   \n",
      "chlorides                  0.298195          0.377124     0.038998   \n",
      "free_sulfur_dioxide       -0.282735         -0.352557     0.133126   \n",
      "total_sulfur_dioxide      -0.329054         -0.414476     0.195242   \n",
      "density                    0.458910          0.271296     0.096154   \n",
      "pH                        -0.252700          0.261454    -0.329808   \n",
      "sulphates                  0.299568          0.225984     0.056197   \n",
      "alcohol                   -0.095452         -0.037640    -0.010493   \n",
      "target                    -0.076743         -0.265699     0.085532   \n",
      "\n",
      "                      residual_sugar  chlorides  free_sulfur_dioxide  \\\n",
      "fixed_acidity              -0.111981   0.298195            -0.282735   \n",
      "volatile_acidity           -0.196011   0.377124            -0.352557   \n",
      "citric_acid                 0.142451   0.038998             0.133126   \n",
      "residual_sugar              1.000000  -0.128940             0.402871   \n",
      "chlorides                  -0.128940   1.000000            -0.195045   \n",
      "free_sulfur_dioxide         0.402871  -0.195045             1.000000   \n",
      "total_sulfur_dioxide        0.495482  -0.279630             0.720934   \n",
      "density                     0.552517   0.362615             0.025717   \n",
      "pH                         -0.267320   0.044708            -0.145854   \n",
      "sulphates                  -0.185927   0.395593            -0.188457   \n",
      "alcohol                    -0.359415  -0.256916            -0.179838   \n",
      "target                     -0.036980  -0.200666             0.055463   \n",
      "\n",
      "                      total_sulfur_dioxide   density        pH  sulphates  \\\n",
      "fixed_acidity                    -0.329054  0.458910 -0.252700   0.299568   \n",
      "volatile_acidity                 -0.414476  0.271296  0.261454   0.225984   \n",
      "citric_acid                       0.195242  0.096154 -0.329808   0.056197   \n",
      "residual_sugar                    0.495482  0.552517 -0.267320  -0.185927   \n",
      "chlorides                        -0.279630  0.362615  0.044708   0.395593   \n",
      "free_sulfur_dioxide               0.720934  0.025717 -0.145854  -0.188457   \n",
      "total_sulfur_dioxide              1.000000  0.032395 -0.238413  -0.275727   \n",
      "density                           0.032395  1.000000  0.011686   0.259478   \n",
      "pH                               -0.238413  0.011686  1.000000   0.192123   \n",
      "sulphates                        -0.275727  0.259478  0.192123   1.000000   \n",
      "alcohol                          -0.265740 -0.686745  0.121248  -0.003029   \n",
      "target                           -0.041385 -0.305858  0.019506   0.038485   \n",
      "\n",
      "                       alcohol    target  \n",
      "fixed_acidity        -0.095452 -0.076743  \n",
      "volatile_acidity     -0.037640 -0.265699  \n",
      "citric_acid          -0.010493  0.085532  \n",
      "residual_sugar       -0.359415 -0.036980  \n",
      "chlorides            -0.256916 -0.200666  \n",
      "free_sulfur_dioxide  -0.179838  0.055463  \n",
      "total_sulfur_dioxide -0.265740 -0.041385  \n",
      "density              -0.686745 -0.305858  \n",
      "pH                    0.121248  0.019506  \n",
      "sulphates            -0.003029  0.038485  \n",
      "alcohol               1.000000  0.444319  \n",
      "target                0.444319  1.000000  \n"
     ]
    }
   ],
   "source": [
    "import pandas as pd\n",
    "\n",
    "# Предположим, что у вас уже есть DataFrame df\n",
    "correlation_matrix = df.corr()\n",
    "\n",
    "# Печать корреляционной матрицы\n",
    "print(correlation_matrix)\n"
   ]
  },
  {
   "cell_type": "code",
   "execution_count": 192,
   "metadata": {},
   "outputs": [
    {
     "data": {
      "text/plain": [
       "Index(['fixed_acidity', 'volatile_acidity', 'citric_acid', 'residual_sugar',\n",
       "       'chlorides', 'free_sulfur_dioxide', 'total_sulfur_dioxide', 'density',\n",
       "       'pH', 'sulphates', 'alcohol', 'target'],\n",
       "      dtype='object')"
      ]
     },
     "execution_count": 192,
     "metadata": {},
     "output_type": "execute_result"
    }
   ],
   "source": [
    "df.columns"
   ]
  },
  {
   "cell_type": "code",
   "execution_count": 193,
   "metadata": {},
   "outputs": [],
   "source": [
    "df['target'].unique()\n",
    "y = df['target']\n",
    "X = df.drop(['target'], axis = 1)"
   ]
  },
  {
   "cell_type": "code",
   "execution_count": 194,
   "metadata": {},
   "outputs": [],
   "source": [
    "y = df['target']\n",
    "X = df.drop(['target'], axis = 1)"
   ]
  },
  {
   "cell_type": "code",
   "execution_count": 195,
   "metadata": {},
   "outputs": [
    {
     "name": "stdout",
     "output_type": "stream",
     "text": [
      "                   0             1             2             3             4  \\\n",
      "0       1.000000e+00  7.201372e-16 -1.180654e-16 -2.292693e-15  5.188208e-15   \n",
      "1       7.201372e-16  1.000000e+00 -2.878675e-16  1.986293e-15 -6.315320e-15   \n",
      "2      -1.180654e-16 -2.878675e-16  1.000000e+00  3.590913e-15 -3.910743e-15   \n",
      "3      -2.292693e-15  1.986293e-15  3.590913e-15  1.000000e+00  1.284293e-13   \n",
      "4       5.188208e-15 -6.315320e-15 -3.910743e-15  1.284293e-13  1.000000e+00   \n",
      "target -3.541421e-02  1.249572e-01 -3.973930e-02 -2.693478e-01  3.692520e-01   \n",
      "\n",
      "          target  \n",
      "0      -0.035414  \n",
      "1       0.124957  \n",
      "2      -0.039739  \n",
      "3      -0.269348  \n",
      "4       0.369252  \n",
      "target  1.000000  \n"
     ]
    }
   ],
   "source": [
    "from sklearn.decomposition import PCA\n",
    "\n",
    "pca = PCA(n_components=5)\n",
    "pca_result = pca.fit_transform(X)\n",
    "\n",
    "for_looking = pd.DataFrame(pca_result.copy())\n",
    "for_looking['target'] = y\n",
    "\n",
    "# Предположим, что у вас уже есть DataFrame df\n",
    "correlation_matrix = for_looking.corr()\n",
    "\n",
    "# Печать корреляционной матрицы\n",
    "print(correlation_matrix)\n"
   ]
  },
  {
   "cell_type": "code",
   "execution_count": 196,
   "metadata": {},
   "outputs": [
    {
     "name": "stdout",
     "output_type": "stream",
     "text": [
      "X_train shape: (5197, 5)\n",
      " y_train shape: (5197,)\n",
      " X_test shape: (1300, 5)\n",
      " y_test shape: (1300,)\n"
     ]
    }
   ],
   "source": [
    "from sklearn.model_selection import train_test_split\n",
    "\n",
    "X_train, X_test, y_train, y_test = train_test_split(pca_result, y, test_size=0.2, random_state=42)\n",
    "print(f'X_train shape: {X_train.shape}\\n y_train shape: {y_train.shape}\\n X_test shape: {X_test.shape}\\n y_test shape: {y_test.shape}')"
   ]
  },
  {
   "cell_type": "code",
   "execution_count": 197,
   "metadata": {},
   "outputs": [],
   "source": [
    "from sklearn.preprocessing import MinMaxScaler\n",
    "\n",
    "min_max_scaler = MinMaxScaler()\n",
    "\n",
    "X_train = min_max_scaler.fit_transform(X_train)\n",
    "X_test = min_max_scaler.transform(X_test)"
   ]
  },
  {
   "cell_type": "markdown",
   "metadata": {},
   "source": [
    "И собираем тензоры для PyTorch"
   ]
  },
  {
   "cell_type": "code",
   "execution_count": 198,
   "metadata": {},
   "outputs": [],
   "source": [
    "import torch\n",
    "\n",
    "X_train = torch.tensor(X_train, dtype=torch.float32)\n",
    "X_test = torch.tensor(X_test, dtype=torch.float32)\n",
    "y_train = torch.tensor(y_train.to_numpy(), dtype=torch.float32).view(-1, 1)\n",
    "y_test = torch.tensor(y_test.to_numpy(), dtype=torch.float32).view(-1, 1)"
   ]
  },
  {
   "cell_type": "markdown",
   "metadata": {},
   "source": [
    "## Модель регрессора"
   ]
  },
  {
   "cell_type": "markdown",
   "metadata": {},
   "source": [
    "### Создание модели"
   ]
  },
  {
   "cell_type": "code",
   "execution_count": 199,
   "metadata": {},
   "outputs": [],
   "source": [
    "import torch\n",
    "\n",
    "class Regressor(torch.nn.Module):\n",
    "    def __init__(self):\n",
    "        super(Regressor, self).__init__()\n",
    "        self.model = torch.nn.Sequential(\n",
    "            torch.nn.Linear(5, 64),\n",
    "            torch.nn.Linear(64, 128),\n",
    "            torch.nn.Linear(128,256),\n",
    "            torch.nn.Linear(256, 1)\n",
    "        )\n",
    "    \n",
    "    def forward(self, x):\n",
    "        return self.model(x)\n"
   ]
  },
  {
   "cell_type": "markdown",
   "metadata": {},
   "source": [
    "### Обучение модели"
   ]
  },
  {
   "cell_type": "code",
   "execution_count": null,
   "metadata": {},
   "outputs": [
    {
     "name": "stdout",
     "output_type": "stream",
     "text": [
      "Epoch [1/100], Train Loss: 1.2487, Test Loss: 0.6348\n",
      "Epoch [2/100], Train Loss: 0.6402, Test Loss: 0.6023\n",
      "Epoch [3/100], Train Loss: 0.6285, Test Loss: 0.6984\n",
      "Epoch [4/100], Train Loss: 0.6316, Test Loss: 0.6126\n",
      "Epoch [5/100], Train Loss: 0.6263, Test Loss: 0.6833\n",
      "Epoch [6/100], Train Loss: 0.6156, Test Loss: 0.6556\n",
      "Epoch [7/100], Train Loss: 0.6179, Test Loss: 0.7387\n",
      "Epoch [8/100], Train Loss: 0.6171, Test Loss: 0.6098\n",
      "Epoch [9/100], Train Loss: 0.6093, Test Loss: 0.6430\n",
      "Epoch [10/100], Train Loss: 0.6198, Test Loss: 1.2189\n",
      "Epoch [11/100], Train Loss: 0.6149, Test Loss: 0.6187\n",
      "Epoch [12/100], Train Loss: 0.6145, Test Loss: 0.5933\n",
      "Epoch [13/100], Train Loss: 0.6192, Test Loss: 0.6110\n",
      "Epoch [14/100], Train Loss: 0.6130, Test Loss: 1.0360\n",
      "Epoch [15/100], Train Loss: 0.6176, Test Loss: 0.6179\n",
      "Epoch [16/100], Train Loss: 0.6232, Test Loss: 0.7202\n",
      "Epoch [17/100], Train Loss: 0.6113, Test Loss: 1.0683\n",
      "Epoch [18/100], Train Loss: 0.6183, Test Loss: 0.6512\n",
      "Epoch [19/100], Train Loss: 0.6121, Test Loss: 0.6151\n",
      "Epoch [20/100], Train Loss: 0.6128, Test Loss: 0.5966\n",
      "Epoch [21/100], Train Loss: 0.6127, Test Loss: 0.5951\n",
      "Epoch [22/100], Train Loss: 0.6090, Test Loss: 0.6003\n",
      "Epoch [23/100], Train Loss: 0.6099, Test Loss: 0.5928\n",
      "Epoch [24/100], Train Loss: 0.6154, Test Loss: 0.6631\n",
      "Epoch [25/100], Train Loss: 0.6109, Test Loss: 0.5924\n",
      "Epoch [26/100], Train Loss: 0.6136, Test Loss: 0.6432\n",
      "Epoch [27/100], Train Loss: 0.6103, Test Loss: 0.6373\n",
      "Epoch [28/100], Train Loss: 0.6104, Test Loss: 0.7220\n",
      "Epoch [29/100], Train Loss: 0.6033, Test Loss: 0.6039\n",
      "Epoch [30/100], Train Loss: 0.6085, Test Loss: 0.6015\n",
      "Epoch [31/100], Train Loss: 0.6194, Test Loss: 0.5953\n",
      "Epoch [32/100], Train Loss: 0.6101, Test Loss: 0.6333\n",
      "Epoch [33/100], Train Loss: 0.6137, Test Loss: 0.6328\n",
      "Epoch [34/100], Train Loss: 0.6028, Test Loss: 0.6544\n",
      "Epoch [35/100], Train Loss: 0.6092, Test Loss: 0.5923\n",
      "Epoch [36/100], Train Loss: 0.6095, Test Loss: 0.6014\n",
      "Epoch [37/100], Train Loss: 0.6111, Test Loss: 0.6035\n",
      "Epoch [38/100], Train Loss: 0.6016, Test Loss: 0.5927\n",
      "Epoch [39/100], Train Loss: 0.6124, Test Loss: 0.5935\n",
      "Epoch [40/100], Train Loss: 0.6097, Test Loss: 0.6082\n",
      "Epoch [41/100], Train Loss: 0.6047, Test Loss: 0.6846\n",
      "Epoch [42/100], Train Loss: 0.6031, Test Loss: 0.6604\n",
      "Epoch [43/100], Train Loss: 0.6101, Test Loss: 0.8011\n",
      "Epoch [44/100], Train Loss: 0.6040, Test Loss: 0.6110\n",
      "Epoch [45/100], Train Loss: 0.6096, Test Loss: 0.5939\n",
      "Epoch [46/100], Train Loss: 0.6039, Test Loss: 0.5950\n",
      "Epoch [47/100], Train Loss: 0.6035, Test Loss: 0.6675\n",
      "Epoch [48/100], Train Loss: 0.6044, Test Loss: 0.6576\n",
      "Epoch [49/100], Train Loss: 0.6064, Test Loss: 0.6856\n",
      "Epoch [50/100], Train Loss: 0.6040, Test Loss: 0.7138\n",
      "Epoch [51/100], Train Loss: 0.6058, Test Loss: 0.6000\n",
      "Epoch [52/100], Train Loss: 0.6053, Test Loss: 0.5916\n",
      "Epoch [53/100], Train Loss: 0.6042, Test Loss: 0.6384\n",
      "Epoch [54/100], Train Loss: 0.6028, Test Loss: 0.5957\n",
      "Epoch [55/100], Train Loss: 0.5985, Test Loss: 0.5924\n",
      "Epoch [56/100], Train Loss: 0.6017, Test Loss: 0.6095\n",
      "Epoch [57/100], Train Loss: 0.6018, Test Loss: 0.7241\n",
      "Epoch [58/100], Train Loss: 0.6095, Test Loss: 0.6486\n",
      "Epoch [59/100], Train Loss: 0.6062, Test Loss: 0.5926\n",
      "Epoch [60/100], Train Loss: 0.6027, Test Loss: 0.6964\n",
      "Epoch [61/100], Train Loss: 0.6032, Test Loss: 0.6329\n",
      "Epoch [62/100], Train Loss: 0.6086, Test Loss: 0.5974\n",
      "Epoch [63/100], Train Loss: 0.6059, Test Loss: 0.5944\n",
      "Epoch [64/100], Train Loss: 0.6036, Test Loss: 0.6362\n",
      "Epoch [65/100], Train Loss: 0.6026, Test Loss: 0.6463\n",
      "Epoch [66/100], Train Loss: 0.5993, Test Loss: 0.6178\n",
      "Epoch [67/100], Train Loss: 0.6057, Test Loss: 0.5923\n",
      "Epoch [68/100], Train Loss: 0.6033, Test Loss: 0.6496\n",
      "Epoch [69/100], Train Loss: 0.6000, Test Loss: 0.5966\n",
      "Epoch [70/100], Train Loss: 0.6034, Test Loss: 0.6098\n",
      "Epoch [71/100], Train Loss: 0.6078, Test Loss: 0.6360\n",
      "Epoch [72/100], Train Loss: 0.6030, Test Loss: 0.5948\n",
      "Epoch [73/100], Train Loss: 0.6094, Test Loss: 0.7274\n",
      "Epoch [74/100], Train Loss: 0.6024, Test Loss: 0.6073\n",
      "Epoch [75/100], Train Loss: 0.5968, Test Loss: 0.5907\n",
      "Epoch [76/100], Train Loss: 0.6026, Test Loss: 0.6240\n",
      "Epoch [77/100], Train Loss: 0.6014, Test Loss: 0.6130\n",
      "Epoch [78/100], Train Loss: 0.5999, Test Loss: 0.8239\n",
      "Epoch [79/100], Train Loss: 0.6036, Test Loss: 0.7026\n",
      "Epoch [80/100], Train Loss: 0.5997, Test Loss: 0.7148\n",
      "Epoch [81/100], Train Loss: 0.6074, Test Loss: 0.6519\n",
      "Epoch [82/100], Train Loss: 0.6000, Test Loss: 0.6881\n",
      "Epoch [83/100], Train Loss: 0.6008, Test Loss: 0.5911\n",
      "Epoch [84/100], Train Loss: 0.5990, Test Loss: 0.5926\n",
      "Epoch [85/100], Train Loss: 0.5988, Test Loss: 0.5928\n",
      "Epoch [86/100], Train Loss: 0.6028, Test Loss: 0.6219\n",
      "Epoch [87/100], Train Loss: 0.5986, Test Loss: 0.5935\n",
      "Epoch [88/100], Train Loss: 0.6025, Test Loss: 0.7555\n",
      "Epoch [89/100], Train Loss: 0.6012, Test Loss: 0.5951\n",
      "Epoch [90/100], Train Loss: 0.6016, Test Loss: 0.5986\n",
      "Epoch [91/100], Train Loss: 0.6010, Test Loss: 0.6021\n",
      "Epoch [92/100], Train Loss: 0.6030, Test Loss: 0.5942\n",
      "Epoch [93/100], Train Loss: 0.5981, Test Loss: 0.7061\n",
      "Epoch [94/100], Train Loss: 0.6064, Test Loss: 0.6262\n",
      "Epoch [95/100], Train Loss: 0.6025, Test Loss: 0.5941\n",
      "Epoch [96/100], Train Loss: 0.6011, Test Loss: 0.5995\n",
      "Epoch [97/100], Train Loss: 0.5975, Test Loss: 0.5979\n",
      "Epoch [98/100], Train Loss: 0.6004, Test Loss: 0.6608\n",
      "Epoch [99/100], Train Loss: 0.5994, Test Loss: 0.6119\n",
      "Epoch [100/100], Train Loss: 0.5990, Test Loss: 0.5948\n"
     ]
    },
    {
     "data": {
      "image/png": "[encoded data removed]",
      "text/plain": [
       "<Figure size 640x480 with 1 Axes>"
      ]
     },
     "metadata": {},
     "output_type": "display_data"
    }
   ],
   "source": [
    "import torch\n",
    "import torch.nn as nn\n",
    "import torch.optim as optim\n",
    "from torch.utils.data import DataLoader, TensorDataset\n",
    "import matplotlib.pyplot as plt\n",
    "\n",
    "batch_size = 32\n",
    "num_epochs = 100\n",
    "learning_rate = 0.001\n",
    "\n",
    "model = Regressor()\n",
    "criterion = nn.MSELoss()\n",
    "optimizer = optim.SGD(model.parameters(), lr=learning_rate)\n",
    "\n",
    "train_dataset = TensorDataset(X_train, y_train)\n",
    "train_loader = DataLoader(train_dataset, batch_size=batch_size, shuffle=True)\n",
    "\n",
    "test_dataset = TensorDataset(X_test, y_test)  # Для тестовой выборки\n",
    "test_loader = DataLoader(test_dataset, batch_size=batch_size, shuffle=False)\n",
    "\n",
    "train_losses = []\n",
    "test_losses = []\n",
    "\n",
    "for epoch in range(num_epochs):\n",
    "    model.train()  # Переводим модель в режим обучения\n",
    "    train_loss = 0.0\n",
    "    for X_batch, y_batch in train_loader:\n",
    "        # Прямой проход\n",
    "        y_pred = model(X_batch)\n",
    "        loss = criterion(y_pred, y_batch)\n",
    "\n",
    "        # Обратное распространение ошибки\n",
    "        optimizer.zero_grad()\n",
    "        loss.backward()\n",
    "        optimizer.step()\n",
    "\n",
    "        train_loss += loss.item()\n",
    "\n",
    "    train_losses.append(train_loss / len(train_loader))  # Среднее значение потерь для тренировки\n",
    "\n",
    "    # Оценка на тестовой выборке\n",
    "    model.eval()  # Переводим модель в режим оценки (без градиентов)\n",
    "    test_loss = 0.0\n",
    "    with torch.no_grad():  # Не нужно вычислять градиенты\n",
    "        for X_batch, y_batch in test_loader:\n",
    "            y_pred = model(X_batch)\n",
    "            loss = criterion(y_pred, y_batch)\n",
    "            test_loss += loss.item()\n",
    "\n",
    "    test_losses.append(test_loss / len(test_loader))  # Среднее значение потерь для теста\n",
    "\n",
    "    print(f\"Epoch [{epoch+1}/{num_epochs}], Train Loss: {train_losses[-1]:.4f}, Test Loss: {test_losses[-1]:.4f}\")\n",
    "\n",
    "# Построение графика\n",
    "plt.plot(range(num_epochs), train_losses, label='Train Loss')\n",
    "plt.plot(range(num_epochs), test_losses, label='Test Loss')\n",
    "plt.xlabel('Epochs')\n",
    "plt.ylabel('Loss')\n",
    "plt.legend()\n",
    "plt.title('Loss vs Epochs')\n",
    "plt.show()\n"
   ]
  },
  {
   "cell_type": "markdown",
   "metadata": {},
   "source": [
    "### Расчёт метрик"
   ]
  },
  {
   "cell_type": "code",
   "execution_count": 201,
   "metadata": {},
   "outputs": [
    {
     "name": "stdout",
     "output_type": "stream",
     "text": [
      "torch.Size([1300, 5])\n",
      "torch.Size([20, 1])\n"
     ]
    }
   ],
   "source": [
    "print(X_test.shape)\n",
    "print(y_pred.shape)"
   ]
  },
  {
   "cell_type": "code",
   "execution_count": 202,
   "metadata": {},
   "outputs": [
    {
     "data": {
      "image/png": "[encoded data removed]",
      "text/plain": [
       "<Figure size 640x480 with 1 Axes>"
      ]
     },
     "metadata": {},
     "output_type": "display_data"
    }
   ],
   "source": [
    "# Оценка точности модели на тестовом наборе данных\n",
    "model.eval()  # Устанавливаем модель в режим оценки\n",
    "correct = 0\n",
    "total = 0\n",
    "\n",
    "\n",
    "with torch.no_grad():  # Градиенты не нужны при оценке\n",
    "    y_pred = model(X_test)  # Получаем предсказания\n",
    "\n",
    "y_pred = pd.DataFrame(y_pred)\n",
    "\n",
    "y_test.shape\n",
    "X_test_saved = pd.DataFrame(X_test_saved)\n",
    "a = X_test_saved[0].to_numpy()\n",
    "plt.scatter(a, y_test, color = 'blue', label = 'исходные данные')\n",
    "plt.scatter(a, y_pred, color = 'red', label = 'предсказанные значения')\n",
    "plt.xlabel('alcohol')\n",
    "plt.ylabel('quality')\n",
    "plt.legend()\n",
    "plt.show()"
   ]
  },
  {
   "cell_type": "code",
   "execution_count": 204,
   "metadata": {},
   "outputs": [
    {
     "name": "stdout",
     "output_type": "stream",
     "text": [
      "MSE: 0.596\n",
      "MAE: 0.601\n",
      "R²: 0.193\n"
     ]
    }
   ],
   "source": [
    "from sklearn.metrics import mean_squared_error, mean_absolute_error, r2_score\n",
    "\n",
    "with torch.no_grad():  # Градиенты не нужны при оценке\n",
    "    y_pred = model(X_test)  # Получаем предсказания\n",
    "\n",
    "# Среднеквадратичная ошибка (MSE)\n",
    "mse = mean_squared_error(y_test, y_pred)\n",
    "\n",
    "# Средняя абсолютная ошибка (MAE)\n",
    "mae = mean_absolute_error(y_test, y_pred)\n",
    "\n",
    "# Коэффициент детерминации (R²)\n",
    "r2 = r2_score(y_test, y_pred)\n",
    "\n",
    "print(f\"MSE: {mse:.3f}\")\n",
    "print(f\"MAE: {mae:.3f}\")\n",
    "print(f\"R²: {r2:.3f}\")"
   ]
  },
  {
   "cell_type": "markdown",
   "metadata": {},
   "source": [
    "## Модель мультиклассовой классификатора из п2"
   ]
  },
  {
   "cell_type": "markdown",
   "metadata": {},
   "source": [
    "### Создание модели"
   ]
  },
  {
   "cell_type": "code",
   "execution_count": 183,
   "metadata": {},
   "outputs": [],
   "source": [
    "import torch\n",
    "\n",
    "class Classifier(torch.nn.Module):\n",
    "    def __init__(self):\n",
    "        super(Classifier, self).__init__()\n",
    "        self.model = torch.nn.Sequential(\n",
    "            torch.nn.Linear(5, 64),\n",
    "            torch.nn.ReLU(),\n",
    "            torch.nn.Linear(64, 128),\n",
    "            torch.nn.ReLU(),\n",
    "            torch.nn.Linear(128,128),\n",
    "            torch.nn.ReLU(),\n",
    "            torch.nn.Linear(128, 10)\n",
    "        )\n",
    "    \n",
    "    def forward(self, x):\n",
    "        return self.model(x)\n"
   ]
  },
  {
   "cell_type": "markdown",
   "metadata": {},
   "source": [
    "### Обучение модели"
   ]
  },
  {
   "cell_type": "code",
   "execution_count": 184,
   "metadata": {},
   "outputs": [
    {
     "name": "stdout",
     "output_type": "stream",
     "text": [
      "Epoch [1/100], Loss: 2.0691\n",
      "Epoch [2/100], Loss: 1.1413\n",
      "Epoch [3/100], Loss: 1.2184\n",
      "Epoch [4/100], Loss: 0.8312\n",
      "Epoch [5/100], Loss: 1.2148\n",
      "Epoch [6/100], Loss: 1.2982\n",
      "Epoch [7/100], Loss: 1.0319\n",
      "Epoch [8/100], Loss: 1.1000\n",
      "Epoch [9/100], Loss: 1.0749\n",
      "Epoch [10/100], Loss: 1.5104\n",
      "Epoch [11/100], Loss: 1.2129\n",
      "Epoch [12/100], Loss: 1.2526\n",
      "Epoch [13/100], Loss: 1.0845\n",
      "Epoch [14/100], Loss: 1.2730\n",
      "Epoch [15/100], Loss: 1.3892\n",
      "Epoch [16/100], Loss: 1.2794\n",
      "Epoch [17/100], Loss: 1.1258\n",
      "Epoch [18/100], Loss: 0.9083\n",
      "Epoch [19/100], Loss: 1.2742\n",
      "Epoch [20/100], Loss: 1.1813\n",
      "Epoch [21/100], Loss: 0.8763\n",
      "Epoch [22/100], Loss: 0.9205\n",
      "Epoch [23/100], Loss: 1.0256\n",
      "Epoch [24/100], Loss: 1.0587\n",
      "Epoch [25/100], Loss: 1.2113\n",
      "Epoch [26/100], Loss: 0.9443\n",
      "Epoch [27/100], Loss: 1.1749\n",
      "Epoch [28/100], Loss: 0.9566\n",
      "Epoch [29/100], Loss: 1.2609\n",
      "Epoch [30/100], Loss: 1.0620\n",
      "Epoch [31/100], Loss: 1.4397\n",
      "Epoch [32/100], Loss: 1.0390\n",
      "Epoch [33/100], Loss: 1.2123\n",
      "Epoch [34/100], Loss: 1.0293\n",
      "Epoch [35/100], Loss: 1.1532\n",
      "Epoch [36/100], Loss: 0.9641\n",
      "Epoch [37/100], Loss: 0.8824\n",
      "Epoch [38/100], Loss: 0.9717\n",
      "Epoch [39/100], Loss: 0.8126\n",
      "Epoch [40/100], Loss: 1.1976\n",
      "Epoch [41/100], Loss: 1.0356\n",
      "Epoch [42/100], Loss: 1.0408\n",
      "Epoch [43/100], Loss: 0.6488\n",
      "Epoch [44/100], Loss: 1.3061\n",
      "Epoch [45/100], Loss: 0.8061\n",
      "Epoch [46/100], Loss: 0.8948\n",
      "Epoch [47/100], Loss: 1.0521\n",
      "Epoch [48/100], Loss: 0.8015\n",
      "Epoch [49/100], Loss: 0.6063\n",
      "Epoch [50/100], Loss: 1.0230\n",
      "Epoch [51/100], Loss: 0.8384\n",
      "Epoch [52/100], Loss: 0.8603\n",
      "Epoch [53/100], Loss: 0.9406\n",
      "Epoch [54/100], Loss: 0.8737\n",
      "Epoch [55/100], Loss: 1.3014\n",
      "Epoch [56/100], Loss: 1.1193\n",
      "Epoch [57/100], Loss: 0.9992\n",
      "Epoch [58/100], Loss: 0.9270\n",
      "Epoch [59/100], Loss: 1.4316\n",
      "Epoch [60/100], Loss: 1.4411\n",
      "Epoch [61/100], Loss: 0.7126\n",
      "Epoch [62/100], Loss: 1.0068\n",
      "Epoch [63/100], Loss: 1.1813\n",
      "Epoch [64/100], Loss: 1.0335\n",
      "Epoch [65/100], Loss: 1.0550\n",
      "Epoch [66/100], Loss: 1.1209\n",
      "Epoch [67/100], Loss: 0.8564\n",
      "Epoch [68/100], Loss: 1.2234\n",
      "Epoch [69/100], Loss: 1.0708\n",
      "Epoch [70/100], Loss: 0.6061\n",
      "Epoch [71/100], Loss: 1.1017\n",
      "Epoch [72/100], Loss: 1.0859\n",
      "Epoch [73/100], Loss: 0.9106\n",
      "Epoch [74/100], Loss: 1.1340\n",
      "Epoch [75/100], Loss: 0.9488\n",
      "Epoch [76/100], Loss: 0.8969\n",
      "Epoch [77/100], Loss: 1.3184\n",
      "Epoch [78/100], Loss: 1.1033\n",
      "Epoch [79/100], Loss: 1.5862\n",
      "Epoch [80/100], Loss: 1.0037\n",
      "Epoch [81/100], Loss: 1.2196\n",
      "Epoch [82/100], Loss: 0.8544\n",
      "Epoch [83/100], Loss: 0.9448\n",
      "Epoch [84/100], Loss: 1.0460\n",
      "Epoch [85/100], Loss: 0.8677\n",
      "Epoch [86/100], Loss: 1.2278\n",
      "Epoch [87/100], Loss: 1.1896\n",
      "Epoch [88/100], Loss: 0.5850\n",
      "Epoch [89/100], Loss: 1.1305\n",
      "Epoch [90/100], Loss: 0.7985\n",
      "Epoch [91/100], Loss: 0.8351\n",
      "Epoch [92/100], Loss: 1.0516\n",
      "Epoch [93/100], Loss: 1.6050\n",
      "Epoch [94/100], Loss: 1.3750\n",
      "Epoch [95/100], Loss: 0.6851\n",
      "Epoch [96/100], Loss: 0.8921\n",
      "Epoch [97/100], Loss: 1.1756\n",
      "Epoch [98/100], Loss: 1.3479\n",
      "Epoch [99/100], Loss: 1.0966\n",
      "Epoch [100/100], Loss: 0.8666\n"
     ]
    }
   ],
   "source": [
    "import torch\n",
    "import torch.nn as nn\n",
    "import torch.optim as optim\n",
    "from torch.utils.data import DataLoader, TensorDataset\n",
    "\n",
    "batch_size = 32\n",
    "num_epochs = 100\n",
    "learning_rate = 0.001\n",
    "\n",
    "model = Classifier()\n",
    "criterion = nn.CrossEntropyLoss()\n",
    "optimizer = optim.Adam(model.parameters(), lr=learning_rate)\n",
    "\n",
    "train_dataset = TensorDataset(X_train, y_train)\n",
    "train_loader = DataLoader(train_dataset, batch_size=batch_size, shuffle=True)\n",
    "\n",
    "for epoch in range(num_epochs):\n",
    "    for X_batch, y_batch in train_loader:\n",
    "        y_batch = y_batch.squeeze(dim=1).long()\n",
    "        # Прямой проход\n",
    "        y_pred = model(X_batch)\n",
    "        loss = criterion(y_pred, y_batch)\n",
    "\n",
    "        # Обратное распространение ошибки\n",
    "        optimizer.zero_grad()\n",
    "        loss.backward()\n",
    "        optimizer.step()\n",
    "\n",
    "    print(f\"Epoch [{epoch+1}/{num_epochs}], Loss: {loss.item():.4f}\")\n"
   ]
  },
  {
   "cell_type": "markdown",
   "metadata": {},
   "source": [
    "### Расчёт метрик"
   ]
  },
  {
   "cell_type": "code",
   "execution_count": null,
   "metadata": {},
   "outputs": [
    {
     "name": "stdout",
     "output_type": "stream",
     "text": [
      "torch.Size([20, 5])\n",
      "Test Accuracy: 12.38%\n"
     ]
    }
   ],
   "source": [
    "from torch.utils.data import DataLoader\n",
    "\n",
    "# Устанавливаем модель в режим оценки\n",
    "model.eval()\n",
    "\n",
    "correct = 0\n",
    "total = 0\n",
    "\n",
    "# Создаем DataLoader для тестовых данных\n",
    "test_loader = DataLoader(TensorDataset(X_test, y_test), batch_size=32, shuffle=False)\n",
    "\n",
    "with torch.no_grad():  # Градиенты не нужны при оценке\n",
    "    for X_batch, y_batch in test_loader:\n",
    "        y_batch = y_batch.long()  # Приводим к нужному типу\n",
    "        y_pred = model(X_batch)  # Получаем предсказания (логиты)\n",
    "        _, predicted = torch.max(y_pred, 1)  # Получаем предсказанные метки классов\n",
    "        \n",
    "        total += y_batch.size(0)\n",
    "        correct += (predicted == y_batch).sum().item()\n",
    "\n",
    "# Расчет точности\n",
    "accuracy = correct / total\n",
    "print(f\"Test Accuracy: {accuracy:.2f}%\")"
   ]
  },
  {
   "cell_type": "code",
   "execution_count": 188,
   "metadata": {},
   "outputs": [
    {
     "name": "stdout",
     "output_type": "stream",
     "text": [
      "              precision    recall  f1-score   support\n",
      "\n",
      "           3       0.33      0.17      0.22         6\n",
      "           4       0.00      0.00      0.00        43\n",
      "           5       0.55      0.67      0.60       402\n",
      "           6       0.55      0.66      0.60       597\n",
      "           7       0.53      0.20      0.30       215\n",
      "           8       1.00      0.03      0.05        36\n",
      "           9       0.00      0.00      0.00         1\n",
      "\n",
      "    accuracy                           0.55      1300\n",
      "   macro avg       0.42      0.25      0.25      1300\n",
      "weighted avg       0.54      0.55      0.51      1300\n",
      "\n",
      "[[  1   0   4   1   0   0   0]\n",
      " [  1   0  22  20   0   0   0]\n",
      " [  0   1 270 128   3   0   0]\n",
      " [  0   0 177 395  25   0   0]\n",
      " [  1   0  19 151  44   0   0]\n",
      " [  0   0   1  24  10   1   0]\n",
      " [  0   0   0   0   1   0   0]]\n"
     ]
    },
    {
     "name": "stderr",
     "output_type": "stream",
     "text": [
      "c:\\Users\\Ruslan\\anaconda3\\Lib\\site-packages\\sklearn\\metrics\\_classification.py:1531: UndefinedMetricWarning: Precision is ill-defined and being set to 0.0 in labels with no predicted samples. Use `zero_division` parameter to control this behavior.\n",
      "  _warn_prf(average, modifier, f\"{metric.capitalize()} is\", len(result))\n",
      "c:\\Users\\Ruslan\\anaconda3\\Lib\\site-packages\\sklearn\\metrics\\_classification.py:1531: UndefinedMetricWarning: Precision is ill-defined and being set to 0.0 in labels with no predicted samples. Use `zero_division` parameter to control this behavior.\n",
      "  _warn_prf(average, modifier, f\"{metric.capitalize()} is\", len(result))\n",
      "c:\\Users\\Ruslan\\anaconda3\\Lib\\site-packages\\sklearn\\metrics\\_classification.py:1531: UndefinedMetricWarning: Precision is ill-defined and being set to 0.0 in labels with no predicted samples. Use `zero_division` parameter to control this behavior.\n",
      "  _warn_prf(average, modifier, f\"{metric.capitalize()} is\", len(result))\n"
     ]
    }
   ],
   "source": [
    "from sklearn.metrics import classification_report, confusion_matrix\n",
    "\n",
    "# Собираем все предсказания и истинные метки\n",
    "all_preds = []\n",
    "all_labels = []\n",
    "\n",
    "with torch.no_grad():\n",
    "    for X_batch, y_batch in test_loader:\n",
    "        y_batch = y_batch.long()\n",
    "        y_pred = model(X_batch)\n",
    "        _, predicted = torch.max(y_pred, 1)\n",
    "        \n",
    "        all_preds.extend(predicted.cpu().numpy())\n",
    "        all_labels.extend(y_batch.cpu().numpy())\n",
    "\n",
    "# Выводим отчет о классификации\n",
    "print(classification_report(all_labels, all_preds))\n",
    "\n",
    "# Выводим матрицу ошибок\n",
    "print(confusion_matrix(all_labels, all_preds))"
   ]
  },
  {
   "cell_type": "code",
   "execution_count": null,
   "metadata": {},
   "outputs": [],
   "source": []
  }
 ],
 "metadata": {
  "kernelspec": {
   "display_name": "base",
   "language": "python",
   "name": "python3"
  },
  "language_info": {
   "codemirror_mode": {
    "name": "ipython",
    "version": 3
   },
   "file_extension": ".py",
   "mimetype": "text/x-python",
   "name": "python",
   "nbconvert_exporter": "python",
   "pygments_lexer": "ipython3",
   "version": "3.12.7"
  }
 },
 "nbformat": 4,
 "nbformat_minor": 2
}

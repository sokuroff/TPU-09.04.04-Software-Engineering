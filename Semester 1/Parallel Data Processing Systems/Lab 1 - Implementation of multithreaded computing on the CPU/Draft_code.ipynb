{
 "cells": [
  {
   "cell_type": "code",
   "execution_count": 1,
   "metadata": {},
   "outputs": [
    {
     "name": "stdout",
     "output_type": "stream",
     "text": [
      "Requirement already satisfied: pillow in c:\\users\\ruslan\\appdata\\local\\programs\\python\\python312\\lib\\site-packages (10.3.0)\n",
      "Note: you may need to restart the kernel to use updated packages.\n"
     ]
    },
    {
     "name": "stderr",
     "output_type": "stream",
     "text": [
      "\n",
      "[notice] A new release of pip is available: 24.0 -> 24.2\n",
      "[notice] To update, run: python.exe -m pip install --upgrade pip\n"
     ]
    }
   ],
   "source": [
    "pip install pillow"
   ]
  },
  {
   "cell_type": "code",
   "execution_count": 112,
   "metadata": {},
   "outputs": [
    {
     "name": "stdout",
     "output_type": "stream",
     "text": [
      "(7680, 10240, 3)\n"
     ]
    }
   ],
   "source": [
    "from PIL import Image\n",
    "import numpy as np\n",
    "\n",
    "image_path = ('collage 10240.png')\n",
    "image = Image.open(image_path)\n",
    "test_array = np.random.rand(1000,1000)\n",
    "\n",
    "image_np = np.array(image)\n",
    "\n",
    "print(image_np.shape)"
   ]
  },
  {
   "cell_type": "code",
   "execution_count": 113,
   "metadata": {},
   "outputs": [],
   "source": [
    "kernel_relief = np.array([[-2, -1, 0],\n",
    "                          [-1,  1, 1],\n",
    "                          [ 0,  1, 2]])\n",
    "\n"
   ]
  },
  {
   "cell_type": "markdown",
   "metadata": {},
   "source": [
    "# Padding"
   ]
  },
  {
   "cell_type": "code",
   "execution_count": 114,
   "metadata": {},
   "outputs": [
    {
     "name": "stdout",
     "output_type": "stream",
     "text": [
      "[[5 8 8 3 9 1 1 5 3 7]\n",
      " [6 2 2 2 2 8 4 5 2 1]\n",
      " [1 8 1 2 6 5 6 5 3 2]\n",
      " [8 1 5 5 9 5 1 5 7 7]]\n",
      "\n",
      "\n",
      "[[0 0 0 0 0 0 0 0 0 0 0 0]\n",
      " [0 5 8 8 3 9 1 1 5 3 7 0]\n",
      " [0 6 2 2 2 2 8 4 5 2 1 0]\n",
      " [0 1 8 1 2 6 5 6 5 3 2 0]\n",
      " [0 8 1 5 5 9 5 1 5 7 7 0]\n",
      " [0 0 0 0 0 0 0 0 0 0 0 0]]\n",
      "\n",
      "\n",
      "test shape(4, 10)\n",
      "arr shape(6, 12)\n"
     ]
    }
   ],
   "source": [
    "import numpy as np\n",
    "\n",
    "test = np.random.randint(1, 10, size = (4, 10))\n",
    "arr2 = np.zeros((test.shape[0]+2, test.shape[1]+2), dtype=int)\n",
    "\n",
    "for i in range(test.shape[0]):\n",
    "    for j in range(test.shape[1]):\n",
    "        arr2[i+1][j+1] = test[i,j]\n",
    "\n",
    "print(test)\n",
    "print('\\n')\n",
    "print(arr2)\n",
    "print('\\n')\n",
    "print(f'test shape' + str(test.shape))\n",
    "print(f'arr shape' + str(arr2.shape))"
   ]
  },
  {
   "cell_type": "markdown",
   "metadata": {},
   "source": [
    "# Свёртка"
   ]
  },
  {
   "cell_type": "code",
   "execution_count": 115,
   "metadata": {},
   "outputs": [
    {
     "name": "stdout",
     "output_type": "stream",
     "text": [
      "[[4 1 6 2 4 3 2 9 9 2]\n",
      " [7 5 5 6 7 4 6 7 8 6]\n",
      " [9 3 1 6 8 9 2 1 9 8]\n",
      " [2 2 5 6 3 9 4 4 5 3]\n",
      " [4 7 7 5 2 8 8 7 2 3]]\n",
      "\n",
      "\n",
      "[[0 0 0 0 0 0 0 0]\n",
      " [0 0 0 0 0 0 0 0]\n",
      " [0 0 0 0 0 0 0 0]]\n",
      "\n",
      "\n"
     ]
    },
    {
     "data": {
      "text/plain": [
       "(5, 10)"
      ]
     },
     "execution_count": 115,
     "metadata": {},
     "output_type": "execute_result"
    }
   ],
   "source": [
    "kernel_relief = np.array([[-2, -1, 0],\n",
    "                          [-1,  1, 1],\n",
    "                          [ 0,  1, 2]])\n",
    "kernel_size = kernel_relief.shape[1]\n",
    "test = np.random.randint(1, 10, size = (5, 10))\n",
    "\n",
    "rows_num = test.shape[0]\n",
    "column_num = test.shape[1]\n",
    "\n",
    "padding = 0\n",
    "stride = 1\n",
    "output_height=((rows_num-kernel_size+2*padding)/stride)+1\n",
    "output_width=((column_num-kernel_size+2*padding)/stride)+1\n",
    "\n",
    "arr = np.zeros((int(output_height),int(output_width)), dtype=int)\n",
    "\n",
    "\n",
    "print(test)\n",
    "print('\\n')\n",
    "print(arr)\n",
    "print('\\n')\n",
    "test.shape"
   ]
  },
  {
   "cell_type": "markdown",
   "metadata": {},
   "source": [
    "# Свёртка"
   ]
  },
  {
   "cell_type": "code",
   "execution_count": 103,
   "metadata": {},
   "outputs": [
    {
     "name": "stdout",
     "output_type": "stream",
     "text": [
      "[[3 1 6]\n",
      " [9 5 8]\n",
      " [4 3 1]]\n",
      "\n",
      "\n",
      "[[-2 -1  0]\n",
      " [-1  1  1]\n",
      " [ 0  1  2]]\n",
      "\n",
      "\n"
     ]
    },
    {
     "data": {
      "text/plain": [
       "2"
      ]
     },
     "execution_count": 103,
     "metadata": {},
     "output_type": "execute_result"
    }
   ],
   "source": [
    "test3 = np.random.randint(1,10, size = (3,3))\n",
    "a = 0\n",
    "for i in range(kernel_relief.shape[1]):\n",
    "    for j in range(kernel_relief.shape[1]):\n",
    "        a += test3[i][j]*kernel_relief[i][j]\n",
    "\n",
    "print(test3)\n",
    "print('\\n')\n",
    "print(kernel_relief)\n",
    "print('\\n')\n",
    "a"
   ]
  },
  {
   "cell_type": "code",
   "execution_count": 120,
   "metadata": {},
   "outputs": [
    {
     "name": "stdout",
     "output_type": "stream",
     "text": [
      "[[4 1 6 2 4 3 2 9 9 2]\n",
      " [7 5 5 6 7 4 6 7 8 6]\n",
      " [9 3 1 6 8 9 2 1 9 8]\n",
      " [2 2 5 6 3 9 4 4 5 3]\n",
      " [4 7 7 5 2 8 8 7 2 3]]\n",
      "\n",
      "\n",
      "[[ -1  11  16  23   5   5  15   5]\n",
      " [-12   6   9  13   2  -8   3   5]\n",
      " [  5  19   5   4   9   1  11   1]]\n",
      "\n",
      "\n",
      "[[ -1  11  16  23   5   5  15   5]\n",
      " [-12   6   9  13   2  -8   3   5]\n",
      " [  5  19   5   4   9   1  11   1]]\n",
      "\n",
      "\n"
     ]
    }
   ],
   "source": [
    "\n",
    "frame = np.zeros_like(kernel_relief)\n",
    "\n",
    "i = j = k = l = val = 0\n",
    "print(test)\n",
    "print('\\n')\n",
    "print(arr)\n",
    "print('\\n')\n",
    "\n",
    "while k < arr.shape[0]:\n",
    "    while l < arr.shape[1]:\n",
    "        while i < kernel_size:\n",
    "            while j < kernel_size:\n",
    "                frame[i][j] = test[i+k][j+l] # здесь заполнеяем один кадр изображения\n",
    "                j += 1\n",
    "\n",
    "            j = 0\n",
    "            i += 1\n",
    "        \n",
    "        if (i == kernel_size): # как только кадр заполнился\n",
    "            for m in range(frame.shape[0]):\n",
    "                for n in range(frame.shape[1]):\n",
    "                    val += frame[m][n]*kernel_relief[m][n]  # считаем значение свёртки\n",
    "        arr[k][l] = val\n",
    "        val = 0\n",
    "        j = 0\n",
    "        i = 0\n",
    "        l += 1         \n",
    "\n",
    "    l = 0\n",
    "    k += 1\n",
    "\n",
    "\n",
    "print(arr)\n",
    "print('\\n')"
   ]
  },
  {
   "cell_type": "code",
   "execution_count": null,
   "metadata": {},
   "outputs": [],
   "source": []
  }
 ],
 "metadata": {
  "kernelspec": {
   "display_name": "Python 3",
   "language": "python",
   "name": "python3"
  },
  "language_info": {
   "codemirror_mode": {
    "name": "ipython",
    "version": 3
   },
   "file_extension": ".py",
   "mimetype": "text/x-python",
   "name": "python",
   "nbconvert_exporter": "python",
   "pygments_lexer": "ipython3",
   "version": "3.12.3"
  }
 },
 "nbformat": 4,
 "nbformat_minor": 2
}

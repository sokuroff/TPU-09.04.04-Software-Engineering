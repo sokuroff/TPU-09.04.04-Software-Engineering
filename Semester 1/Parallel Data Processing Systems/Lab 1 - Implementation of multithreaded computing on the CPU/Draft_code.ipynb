{
 "cells": [
  {
   "cell_type": "code",
   "execution_count": 1,
   "metadata": {},
   "outputs": [
    {
     "name": "stdout",
     "output_type": "stream",
     "text": [
      "Defaulting to user installation because normal site-packages is not writeable\n",
      "Requirement already satisfied: pillow in d:\\soft\\anaconda\\lib\\site-packages (10.4.0)\n",
      "Note: you may need to restart the kernel to use updated packages.\n"
     ]
    }
   ],
   "source": [
    "pip install pillow"
   ]
  },
  {
   "cell_type": "code",
   "execution_count": 112,
   "metadata": {},
   "outputs": [
    {
     "name": "stdout",
     "output_type": "stream",
     "text": [
      "(7680, 10240, 3)\n"
     ]
    }
   ],
   "source": [
    "from PIL import Image\n",
    "import numpy as np\n",
    "\n",
    "image_path = ('collage 10240.png')\n",
    "image = Image.open(image_path)\n",
    "test_array = np.random.rand(1000,1000)\n",
    "\n",
    "image_np = np.array(image)\n",
    "\n",
    "print(image_np.shape)"
   ]
  },
  {
   "cell_type": "code",
   "execution_count": 113,
   "metadata": {},
   "outputs": [],
   "source": [
    "kernel_relief = np.array([[-2, -1, 0],\n",
    "                          [-1,  1, 1],\n",
    "                          [ 0,  1, 2]])\n",
    "\n"
   ]
  },
  {
   "cell_type": "markdown",
   "metadata": {},
   "source": [
    "# Padding"
   ]
  },
  {
   "cell_type": "code",
   "execution_count": 114,
   "metadata": {},
   "outputs": [
    {
     "name": "stdout",
     "output_type": "stream",
     "text": [
      "[[5 8 8 3 9 1 1 5 3 7]\n",
      " [6 2 2 2 2 8 4 5 2 1]\n",
      " [1 8 1 2 6 5 6 5 3 2]\n",
      " [8 1 5 5 9 5 1 5 7 7]]\n",
      "\n",
      "\n",
      "[[0 0 0 0 0 0 0 0 0 0 0 0]\n",
      " [0 5 8 8 3 9 1 1 5 3 7 0]\n",
      " [0 6 2 2 2 2 8 4 5 2 1 0]\n",
      " [0 1 8 1 2 6 5 6 5 3 2 0]\n",
      " [0 8 1 5 5 9 5 1 5 7 7 0]\n",
      " [0 0 0 0 0 0 0 0 0 0 0 0]]\n",
      "\n",
      "\n",
      "test shape(4, 10)\n",
      "arr shape(6, 12)\n"
     ]
    }
   ],
   "source": [
    "import numpy as np\n",
    "\n",
    "test = np.random.randint(1, 10, size = (4, 10))\n",
    "arr2 = np.zeros((test.shape[0]+2, test.shape[1]+2), dtype=int)\n",
    "\n",
    "for i in range(test.shape[0]):\n",
    "    for j in range(test.shape[1]):\n",
    "        arr2[i+1][j+1] = test[i,j]\n",
    "\n",
    "print(test)\n",
    "print('\\n')\n",
    "print(arr2)\n",
    "print('\\n')\n",
    "print(f'test shape' + str(test.shape))\n",
    "print(f'arr shape' + str(arr2.shape))"
   ]
  },
  {
   "cell_type": "markdown",
   "metadata": {},
   "source": [
    "# Свёртка"
   ]
  },
  {
   "cell_type": "code",
   "execution_count": 115,
   "metadata": {},
   "outputs": [
    {
     "name": "stdout",
     "output_type": "stream",
     "text": [
      "[[4 1 6 2 4 3 2 9 9 2]\n",
      " [7 5 5 6 7 4 6 7 8 6]\n",
      " [9 3 1 6 8 9 2 1 9 8]\n",
      " [2 2 5 6 3 9 4 4 5 3]\n",
      " [4 7 7 5 2 8 8 7 2 3]]\n",
      "\n",
      "\n",
      "[[0 0 0 0 0 0 0 0]\n",
      " [0 0 0 0 0 0 0 0]\n",
      " [0 0 0 0 0 0 0 0]]\n",
      "\n",
      "\n"
     ]
    },
    {
     "data": {
      "text/plain": [
       "(5, 10)"
      ]
     },
     "execution_count": 115,
     "metadata": {},
     "output_type": "execute_result"
    }
   ],
   "source": [
    "kernel_relief = np.array([[-2, -1, 0],\n",
    "                          [-1,  1, 1],\n",
    "                          [ 0,  1, 2]])\n",
    "kernel_size = kernel_relief.shape[1]\n",
    "test = np.random.randint(1, 10, size = (5, 10))\n",
    "\n",
    "rows_num = test.shape[0]\n",
    "column_num = test.shape[1]\n",
    "\n",
    "padding = 0\n",
    "stride = 1\n",
    "output_height=((rows_num-kernel_size+2*padding)/stride)+1\n",
    "output_width=((column_num-kernel_size+2*padding)/stride)+1\n",
    "\n",
    "arr = np.zeros((int(output_height),int(output_width)), dtype=int)\n",
    "\n",
    "\n",
    "print(test)\n",
    "print('\\n')\n",
    "print(arr)\n",
    "print('\\n')\n",
    "test.shape"
   ]
  },
  {
   "cell_type": "markdown",
   "metadata": {},
   "source": [
    "# Свёртка"
   ]
  },
  {
   "cell_type": "code",
   "execution_count": 103,
   "metadata": {},
   "outputs": [
    {
     "name": "stdout",
     "output_type": "stream",
     "text": [
      "[[3 1 6]\n",
      " [9 5 8]\n",
      " [4 3 1]]\n",
      "\n",
      "\n",
      "[[-2 -1  0]\n",
      " [-1  1  1]\n",
      " [ 0  1  2]]\n",
      "\n",
      "\n"
     ]
    },
    {
     "data": {
      "text/plain": [
       "2"
      ]
     },
     "execution_count": 103,
     "metadata": {},
     "output_type": "execute_result"
    }
   ],
   "source": [
    "test3 = np.random.randint(1,10, size = (3,3))\n",
    "a = 0\n",
    "for i in range(kernel_relief.shape[1]):\n",
    "    for j in range(kernel_relief.shape[1]):\n",
    "        a += test3[i][j]*kernel_relief[i][j]\n",
    "\n",
    "print(test3)\n",
    "print('\\n')\n",
    "print(kernel_relief)\n",
    "print('\\n')\n",
    "a"
   ]
  },
  {
   "cell_type": "code",
   "execution_count": 120,
   "metadata": {},
   "outputs": [
    {
     "name": "stdout",
     "output_type": "stream",
     "text": [
      "[[4 1 6 2 4 3 2 9 9 2]\n",
      " [7 5 5 6 7 4 6 7 8 6]\n",
      " [9 3 1 6 8 9 2 1 9 8]\n",
      " [2 2 5 6 3 9 4 4 5 3]\n",
      " [4 7 7 5 2 8 8 7 2 3]]\n",
      "\n",
      "\n",
      "[[ -1  11  16  23   5   5  15   5]\n",
      " [-12   6   9  13   2  -8   3   5]\n",
      " [  5  19   5   4   9   1  11   1]]\n",
      "\n",
      "\n",
      "[[ -1  11  16  23   5   5  15   5]\n",
      " [-12   6   9  13   2  -8   3   5]\n",
      " [  5  19   5   4   9   1  11   1]]\n",
      "\n",
      "\n"
     ]
    }
   ],
   "source": [
    "\n",
    "frame = np.zeros_like(kernel_relief)\n",
    "\n",
    "i = j = k = l = val = 0\n",
    "print(test)\n",
    "print('\\n')\n",
    "print(arr)\n",
    "print('\\n')\n",
    "\n",
    "while k < arr.shape[0]:\n",
    "    while l < arr.shape[1]:\n",
    "        while i < kernel_size:\n",
    "            while j < kernel_size:\n",
    "                frame[i][j] = test[i+k][j+l] # здесь заполнеяем один кадр изображения\n",
    "                j += 1\n",
    "\n",
    "            j = 0\n",
    "            i += 1\n",
    "        \n",
    "        if (i == kernel_size): # как только кадр заполнился\n",
    "            for m in range(frame.shape[0]):\n",
    "                for n in range(frame.shape[1]):\n",
    "                    val += frame[m][n]*kernel_relief[m][n]  # считаем значение свёртки\n",
    "        arr[k][l] = val\n",
    "        val = 0\n",
    "        j = 0\n",
    "        i = 0\n",
    "        l += 1         \n",
    "\n",
    "    l = 0\n",
    "    k += 1\n",
    "\n",
    "\n",
    "print(arr)\n",
    "print('\\n')"
   ]
  },
  {
   "cell_type": "code",
   "execution_count": 12,
   "metadata": {},
   "outputs": [],
   "source": [
    "import numpy as np\n",
    "import pandas as pd\n",
    "\n",
    "conv_times = [1,2,3]\n",
    "conv_times2 =[4,5,6]\n",
    "\n",
    "conv_repeats = [conv_times, conv_times2]\n",
    "conv_repeats2 = [conv_times2, conv_times]\n",
    "\n",
    "one_thread = np.array([conv_repeats, conv_repeats2])"
   ]
  },
  {
   "cell_type": "code",
   "execution_count": null,
   "metadata": {},
   "outputs": [
    {
     "name": "stdout",
     "output_type": "stream",
     "text": [
      "image: collage 10240.png, image shape: (7680, 10240, 3)\n",
      "parts count: 4, shape of one part: (1920, 10240, 3)\n",
      "final\n",
      "final2\n"
     ]
    }
   ],
   "source": [
    "import multiprocessing.process\n",
    "from PIL import Image\n",
    "import numpy as np\n",
    "import multiprocessing\n",
    "import time\n",
    "import cv2\n",
    "\n",
    "kernel_relief = np.array([[-2, -1, 0],\n",
    "                          [-1,  1, 1],\n",
    "                          [ 0,  1, 2]])\n",
    "\n",
    "images = ['collage 10240.png','cruella 20480.jpg','iceland 12800.jpg']\n",
    "\n",
    "padding = 0\n",
    "stride = 1\n",
    "\n",
    "threads_quantities = [4, 6]\n",
    "result_times = [] # здесь будут временные затраты на все операции\n",
    "\n",
    "\n",
    "# Разделение матрицы на две части\n",
    "def split_matrix(matrix, parts_quantity):\n",
    "    indexes = []\n",
    "    parts = []\n",
    "    for i in range(parts_quantity+1):\n",
    "        indexes.append((matrix.shape[0]//parts_quantity)*i)\n",
    "\n",
    "    i = 0\n",
    "    while (i < parts_quantity):\n",
    "        parts.append(matrix[indexes[i]:indexes[i+1]])\n",
    "        i += 1\n",
    "    \n",
    "    return parts\n",
    "\n",
    "def get_rgb_matrices(image_path):\n",
    "    image = Image.open(image_path)\n",
    "    image_np = np.array(image)\n",
    "    red_channel = green_channel = blue_channel = 0\n",
    "    if (image_np.ndim == 3):\n",
    "        red_channel = image_np[:,:,0]\n",
    "        green_channel = image_np[:,:,1]\n",
    "        blue_channel = image_np[:,:,2]\n",
    "    return (red_channel, green_channel, blue_channel)\n",
    "\n",
    "\n",
    "def constant_zero_padding(input_arr):\n",
    "    \"\"\"\n",
    "    function to generate 0 padding around input array\n",
    "\n",
    "    Parameter\n",
    "    ---------\n",
    "    input_arr : arr\n",
    "        The array to which padding wil be added\n",
    "    \n",
    "    Returns\n",
    "    -------\n",
    "    output : arr\n",
    "        The input_arr with paddings\n",
    "    \"\"\"\n",
    "    output = np.zeros((input_arr.shape[0]+2, input_arr.shape[1]+2), dtype=int)\n",
    "\n",
    "    for i in range(input_arr.shape[0]):\n",
    "        for j in range(input_arr.shape[1]):\n",
    "            output[i+1][j+1] = input_arr[i,j]\n",
    "    return output\n",
    "\n",
    "def convolution(kernel, input_arr, padding, stride):\n",
    "    \"\"\"\n",
    "    function which produces convuliton operation on input_arr\n",
    "    \n",
    "    Parameters\n",
    "    ----------\n",
    "    kernel : arr\n",
    "        The kernel which used in convolution, must be smaller than input_arr\n",
    "    input_arr : arr\n",
    "        The array which will be convoluted, must be bigger than kernel\n",
    "    padding : int\n",
    "        '1' is to create const zero padding around array in order to make \n",
    "        output array the same scale as the input one and '0' to not do it.\n",
    "    stride : int\n",
    "        step by which the convolution opeartion is shifted through \n",
    "        input_arr. But for now it's uses only to define output array sizes\n",
    "\n",
    "    Returns\n",
    "    -------\n",
    "    output_arr\n",
    "        convoluted array\n",
    "    \"\"\"\n",
    "    frame = np.zeros_like(kernel)\n",
    "    kernel_size = kernel.shape[0]\n",
    "    rows_num = input_arr.shape[0]\n",
    "    column_num = input_arr.shape[1]\n",
    "    output_height=((rows_num-kernel_size+2*padding)/stride)+1\n",
    "    output_width=((column_num-kernel_size+2*padding)/stride)+1\n",
    "    output_arr = np.zeros((int(output_height),int(output_width)), dtype=int)\n",
    "    conv_times = []\n",
    "\n",
    "    i = j = k = l = val = 0\n",
    "\n",
    "    while k < output_arr.shape[0]:\n",
    "        while l < output_arr.shape[1]:\n",
    "            while i < kernel_size:\n",
    "                while j < kernel_size:\n",
    "                    frame[i][j] = input_arr[i+k][j+l] \n",
    "                    j += 1\n",
    "\n",
    "                j = 0\n",
    "                i += 1\n",
    "\n",
    "            if (i == kernel_size): \n",
    "                for m in range(frame.shape[0]):\n",
    "                    for n in range(frame.shape[1]):\n",
    "                        val += frame[m][n]*kernel_relief[m][n]  \n",
    "            output_arr[k][l] = val\n",
    "            val = j = i = 0\n",
    "            l += 1         \n",
    "        l = 0\n",
    "        k += 1\n",
    "    return output_arr\n",
    "\n",
    "def not_mine_convolution(index, image_part, kernel, result):\n",
    "    print(f\"Start processing part {index}\")\n",
    "    convoluted_image = cv2.filter2D(image_part, -1, kernel)\n",
    "    result[index] = convoluted_image\n",
    "\n",
    "\n",
    "for threads_quantity in threads_quantities:\n",
    "    if __name__ == '__main__':\n",
    "        conv_times_arr = [] # здесь будут храниться convs_times 5 раз для точности\n",
    "        for i in range(5):\n",
    "            convs_times = [] # здесь будут время свёртки каждого изображения в итерацию, то есть размер массива равен 3\n",
    "            for image_name in images:\n",
    "                image = cv2.imread(image_name, cv2.IMREAD_COLOR)\n",
    "                print(f'image: {image_name}, image shape: {image.shape}')\n",
    "                parts = split_matrix(image, threads_quantity)\n",
    "                print(f'parts count: {len(parts)}, shape of one part: {parts[0].shape}')\n",
    "                \n",
    "                start_time = time.time()\n",
    "                with multiprocessing.Manager() as manager:\n",
    "                    processes = []\n",
    "                    # Инициализация списка для результатов с фиксированным размером\n",
    "                    result_list = manager.list([None] * threads_quantity)\n",
    "\n",
    "                    print('final')\n",
    "                    \n",
    "                    for index, part in enumerate(parts):\n",
    "                        process = multiprocessing.Process(target=not_mine_convolution, args=(index, part, kernel_relief, result_list))\n",
    "                        processes.append(process)\n",
    "\n",
    "                    print('final2')\n",
    "                    for process in processes:\n",
    "                        process.start()\n",
    "\n",
    "                    print('final3')\n",
    "                    for process in processes:\n",
    "                        process.join()\n",
    "                    \n",
    "                    final_image = np.vstack(list(result_list))\n",
    "                    end_time = time.time()\n",
    "                    conv_times.append(end_time - start_time)\n",
    "                \n",
    "                \n",
    "                final_image_name = image_name + 'convoluted.jpg'\n",
    "                cv2.imwrite(final_image_name, final_image)\n",
    "            conv_times_arr.append(convs_times)\n",
    "\n",
    "\n",
    "\n",
    "        print(f'processes: {threads_quantity}')\n",
    "        for conv_time in conv_times_arr:\n",
    "            print(f't = {conv_time}')\n",
    "\n",
    "    result_times.append(conv_times_arr)\n",
    "    "
   ]
  },
  {
   "cell_type": "code",
   "execution_count": null,
   "metadata": {},
   "outputs": [
    {
     "name": "stdout",
     "output_type": "stream",
     "text": [
      "2_thread(s)\n"
     ]
    }
   ],
   "source": [
    "threads_quantity = 2\n",
    "\n",
    "result_times = []\n",
    "\n",
    "\n",
    "\n",
    "x_label = (str(threads_quantity) + '_thread(s)')\n",
    "print(x_label)"
   ]
  },
  {
   "cell_type": "code",
   "execution_count": 18,
   "metadata": {},
   "outputs": [
    {
     "name": "stdout",
     "output_type": "stream",
     "text": [
      "Defaulting to user installation because normal site-packages is not writeable\n",
      "Collecting opencv-python\n",
      "  Downloading opencv_python-4.10.0.84-cp37-abi3-win_amd64.whl.metadata (20 kB)\n",
      "Requirement already satisfied: numpy>=1.21.2 in d:\\soft\\anaconda\\lib\\site-packages (from opencv-python) (1.26.4)\n",
      "Downloading opencv_python-4.10.0.84-cp37-abi3-win_amd64.whl (38.8 MB)\n",
      "   ---------------------------------------- 0.0/38.8 MB ? eta -:--:--\n",
      "   ---------------------------------------- 0.0/38.8 MB ? eta -:--:--\n",
      "    --------------------------------------- 0.5/38.8 MB 2.8 MB/s eta 0:00:14\n",
      "    --------------------------------------- 0.8/38.8 MB 2.8 MB/s eta 0:00:14\n",
      "   - -------------------------------------- 1.6/38.8 MB 2.5 MB/s eta 0:00:16\n",
      "   -- ------------------------------------- 2.1/38.8 MB 2.6 MB/s eta 0:00:15\n",
      "   -- ------------------------------------- 2.9/38.8 MB 2.6 MB/s eta 0:00:14\n",
      "   --- ------------------------------------ 3.4/38.8 MB 2.7 MB/s eta 0:00:14\n",
      "   ---- ----------------------------------- 3.9/38.8 MB 2.6 MB/s eta 0:00:14\n",
      "   ---- ----------------------------------- 4.5/38.8 MB 2.6 MB/s eta 0:00:14\n",
      "   ----- ---------------------------------- 5.2/38.8 MB 2.7 MB/s eta 0:00:13\n",
      "   ----- ---------------------------------- 5.8/38.8 MB 2.7 MB/s eta 0:00:13\n",
      "   ------ --------------------------------- 6.6/38.8 MB 2.8 MB/s eta 0:00:12\n",
      "   ------- -------------------------------- 7.1/38.8 MB 2.8 MB/s eta 0:00:12\n",
      "   -------- ------------------------------- 7.9/38.8 MB 2.8 MB/s eta 0:00:11\n",
      "   -------- ------------------------------- 8.4/38.8 MB 2.9 MB/s eta 0:00:11\n",
      "   --------- ------------------------------ 9.2/38.8 MB 2.9 MB/s eta 0:00:11\n",
      "   --------- ------------------------------ 9.7/38.8 MB 2.9 MB/s eta 0:00:11\n",
      "   ---------- ----------------------------- 10.5/38.8 MB 2.9 MB/s eta 0:00:10\n",
      "   ----------- ---------------------------- 11.0/38.8 MB 2.9 MB/s eta 0:00:10\n",
      "   ------------ --------------------------- 11.8/38.8 MB 2.9 MB/s eta 0:00:10\n",
      "   ------------ --------------------------- 12.3/38.8 MB 2.9 MB/s eta 0:00:10\n",
      "   ------------- -------------------------- 13.1/38.8 MB 2.9 MB/s eta 0:00:09\n",
      "   -------------- ------------------------- 13.9/38.8 MB 2.9 MB/s eta 0:00:09\n",
      "   -------------- ------------------------- 14.4/38.8 MB 2.9 MB/s eta 0:00:09\n",
      "   --------------- ------------------------ 15.2/38.8 MB 3.0 MB/s eta 0:00:09\n",
      "   ---------------- ----------------------- 15.7/38.8 MB 2.9 MB/s eta 0:00:08\n",
      "   ---------------- ----------------------- 16.3/38.8 MB 2.9 MB/s eta 0:00:08\n",
      "   ----------------- ---------------------- 17.0/38.8 MB 3.0 MB/s eta 0:00:08\n",
      "   ------------------ --------------------- 17.8/38.8 MB 3.0 MB/s eta 0:00:08\n",
      "   ------------------ --------------------- 18.4/38.8 MB 3.0 MB/s eta 0:00:07\n",
      "   ------------------- -------------------- 19.1/38.8 MB 3.0 MB/s eta 0:00:07\n",
      "   -------------------- ------------------- 19.7/38.8 MB 3.0 MB/s eta 0:00:07\n",
      "   --------------------- ------------------ 20.4/38.8 MB 3.0 MB/s eta 0:00:07\n",
      "   --------------------- ------------------ 21.0/38.8 MB 3.0 MB/s eta 0:00:07\n",
      "   --------------------- ------------------ 21.2/38.8 MB 2.9 MB/s eta 0:00:07\n",
      "   ---------------------- ----------------- 21.8/38.8 MB 2.9 MB/s eta 0:00:06\n",
      "   ---------------------- ----------------- 22.3/38.8 MB 2.9 MB/s eta 0:00:06\n",
      "   ----------------------- ---------------- 22.8/38.8 MB 2.9 MB/s eta 0:00:06\n",
      "   ------------------------ --------------- 23.6/38.8 MB 2.9 MB/s eta 0:00:06\n",
      "   ------------------------ --------------- 24.1/38.8 MB 2.9 MB/s eta 0:00:06\n",
      "   ------------------------- -------------- 24.6/38.8 MB 2.9 MB/s eta 0:00:05\n",
      "   ------------------------- -------------- 25.2/38.8 MB 2.9 MB/s eta 0:00:05\n",
      "   -------------------------- ------------- 25.7/38.8 MB 2.9 MB/s eta 0:00:05\n",
      "   --------------------------- ------------ 26.5/38.8 MB 2.9 MB/s eta 0:00:05\n",
      "   --------------------------- ------------ 27.0/38.8 MB 2.9 MB/s eta 0:00:05\n",
      "   ---------------------------- ----------- 27.8/38.8 MB 2.9 MB/s eta 0:00:04\n",
      "   ----------------------------- ---------- 28.3/38.8 MB 2.9 MB/s eta 0:00:04\n",
      "   ----------------------------- ---------- 29.1/38.8 MB 2.9 MB/s eta 0:00:04\n",
      "   ------------------------------ --------- 29.6/38.8 MB 2.9 MB/s eta 0:00:04\n",
      "   ------------------------------- -------- 30.4/38.8 MB 2.9 MB/s eta 0:00:03\n",
      "   -------------------------------- ------- 31.2/38.8 MB 2.9 MB/s eta 0:00:03\n",
      "   -------------------------------- ------- 31.7/38.8 MB 2.9 MB/s eta 0:00:03\n",
      "   --------------------------------- ------ 32.2/38.8 MB 2.9 MB/s eta 0:00:03\n",
      "   --------------------------------- ------ 32.5/38.8 MB 2.9 MB/s eta 0:00:03\n",
      "   ---------------------------------- ----- 33.0/38.8 MB 2.9 MB/s eta 0:00:03\n",
      "   ---------------------------------- ----- 33.3/38.8 MB 2.8 MB/s eta 0:00:02\n",
      "   ---------------------------------- ----- 33.6/38.8 MB 2.8 MB/s eta 0:00:02\n",
      "   ---------------------------------- ----- 33.6/38.8 MB 2.8 MB/s eta 0:00:02\n",
      "   ---------------------------------- ----- 33.8/38.8 MB 2.7 MB/s eta 0:00:02\n",
      "   ---------------------------------- ----- 33.8/38.8 MB 2.7 MB/s eta 0:00:02\n",
      "   ----------------------------------- ---- 34.1/38.8 MB 2.7 MB/s eta 0:00:02\n",
      "   ----------------------------------- ---- 34.1/38.8 MB 2.7 MB/s eta 0:00:02\n",
      "   ----------------------------------- ---- 34.3/38.8 MB 2.6 MB/s eta 0:00:02\n",
      "   ----------------------------------- ---- 34.6/38.8 MB 2.6 MB/s eta 0:00:02\n",
      "   ----------------------------------- ---- 34.6/38.8 MB 2.6 MB/s eta 0:00:02\n",
      "   ----------------------------------- ---- 34.9/38.8 MB 2.5 MB/s eta 0:00:02\n",
      "   ----------------------------------- ---- 34.9/38.8 MB 2.5 MB/s eta 0:00:02\n",
      "   ------------------------------------ --- 35.1/38.8 MB 2.5 MB/s eta 0:00:02\n",
      "   ------------------------------------ --- 35.4/38.8 MB 2.4 MB/s eta 0:00:02\n",
      "   ------------------------------------ --- 35.4/38.8 MB 2.4 MB/s eta 0:00:02\n",
      "   ------------------------------------ --- 35.7/38.8 MB 2.4 MB/s eta 0:00:02\n",
      "   ------------------------------------ --- 35.9/38.8 MB 2.4 MB/s eta 0:00:02\n",
      "   ------------------------------------ --- 35.9/38.8 MB 2.4 MB/s eta 0:00:02\n",
      "   ------------------------------------- -- 36.2/38.8 MB 2.3 MB/s eta 0:00:02\n",
      "   ------------------------------------- -- 36.4/38.8 MB 2.3 MB/s eta 0:00:02\n",
      "   ------------------------------------- -- 36.7/38.8 MB 2.3 MB/s eta 0:00:01\n",
      "   ------------------------------------- -- 36.7/38.8 MB 2.3 MB/s eta 0:00:01\n",
      "   -------------------------------------- - 37.0/38.8 MB 2.3 MB/s eta 0:00:01\n",
      "   -------------------------------------- - 37.2/38.8 MB 2.2 MB/s eta 0:00:01\n",
      "   -------------------------------------- - 37.5/38.8 MB 2.2 MB/s eta 0:00:01\n",
      "   -------------------------------------- - 37.7/38.8 MB 2.2 MB/s eta 0:00:01\n",
      "   ---------------------------------------  38.0/38.8 MB 2.2 MB/s eta 0:00:01\n",
      "   ---------------------------------------  38.0/38.8 MB 2.2 MB/s eta 0:00:01\n",
      "   ---------------------------------------  38.3/38.8 MB 2.2 MB/s eta 0:00:01\n",
      "   ---------------------------------------  38.5/38.8 MB 2.2 MB/s eta 0:00:01\n",
      "   ---------------------------------------- 38.8/38.8 MB 2.1 MB/s eta 0:00:00\n",
      "Installing collected packages: opencv-python\n",
      "Successfully installed opencv-python-4.10.0.84\n",
      "Note: you may need to restart the kernel to use updated packages.\n"
     ]
    }
   ],
   "source": [
    "pip install opencv-python"
   ]
  },
  {
   "cell_type": "code",
   "execution_count": null,
   "metadata": {},
   "outputs": [],
   "source": []
  }
 ],
 "metadata": {
  "kernelspec": {
   "display_name": "base",
   "language": "python",
   "name": "python3"
  },
  "language_info": {
   "codemirror_mode": {
    "name": "ipython",
    "version": 3
   },
   "file_extension": ".py",
   "mimetype": "text/x-python",
   "name": "python",
   "nbconvert_exporter": "python",
   "pygments_lexer": "ipython3",
   "version": "3.12.7"
  }
 },
 "nbformat": 4,
 "nbformat_minor": 2
}

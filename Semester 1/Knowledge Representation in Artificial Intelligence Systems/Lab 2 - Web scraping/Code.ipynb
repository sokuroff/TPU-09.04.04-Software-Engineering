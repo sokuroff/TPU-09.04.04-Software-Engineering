{
 "cells": [
  {
   "cell_type": "code",
   "execution_count": 1,
   "metadata": {},
   "outputs": [
    {
     "name": "stdout",
     "output_type": "stream",
     "text": [
      "Collecting requests\n",
      "  Downloading requests-2.32.3-py3-none-any.whl.metadata (4.6 kB)\n",
      "Collecting beautifulsoup4\n",
      "  Downloading beautifulsoup4-4.12.3-py3-none-any.whl.metadata (3.8 kB)\n",
      "Collecting charset-normalizer<4,>=2 (from requests)\n",
      "  Downloading charset_normalizer-3.3.2-cp312-cp312-win_amd64.whl.metadata (34 kB)\n",
      "Collecting idna<4,>=2.5 (from requests)\n",
      "  Downloading idna-3.10-py3-none-any.whl.metadata (10 kB)\n",
      "Collecting urllib3<3,>=1.21.1 (from requests)\n",
      "  Downloading urllib3-2.2.3-py3-none-any.whl.metadata (6.5 kB)\n",
      "Collecting certifi>=2017.4.17 (from requests)\n",
      "  Downloading certifi-2024.8.30-py3-none-any.whl.metadata (2.2 kB)\n",
      "Collecting soupsieve>1.2 (from beautifulsoup4)\n",
      "  Downloading soupsieve-2.6-py3-none-any.whl.metadata (4.6 kB)\n",
      "Downloading requests-2.32.3-py3-none-any.whl (64 kB)\n",
      "   ---------------------------------------- 0.0/64.9 kB ? eta -:--:--\n",
      "   ---------------------------------------- 64.9/64.9 kB 1.8 MB/s eta 0:00:00\n",
      "Downloading beautifulsoup4-4.12.3-py3-none-any.whl (147 kB)\n",
      "   ---------------------------------------- 0.0/147.9 kB ? eta -:--:--\n",
      "   ------------------------------ --------- 112.6/147.9 kB 6.4 MB/s eta 0:00:01\n",
      "   ---------------------------------------- 147.9/147.9 kB 1.8 MB/s eta 0:00:00\n",
      "Downloading certifi-2024.8.30-py3-none-any.whl (167 kB)\n",
      "   ---------------------------------------- 0.0/167.3 kB ? eta -:--:--\n",
      "   -------------------------- ------------- 112.6/167.3 kB ? eta -:--:--\n",
      "   ---------------------------------------- 167.3/167.3 kB 2.0 MB/s eta 0:00:00\n",
      "Downloading charset_normalizer-3.3.2-cp312-cp312-win_amd64.whl (100 kB)\n",
      "   ---------------------------------------- 0.0/100.4 kB ? eta -:--:--\n",
      "   ---------------------------------------- 100.4/100.4 kB 5.6 MB/s eta 0:00:00\n",
      "Downloading idna-3.10-py3-none-any.whl (70 kB)\n",
      "   ---------------------------------------- 0.0/70.4 kB ? eta -:--:--\n",
      "   ---------------------------------------- 70.4/70.4 kB 4.0 MB/s eta 0:00:00\n",
      "Downloading soupsieve-2.6-py3-none-any.whl (36 kB)\n",
      "Downloading urllib3-2.2.3-py3-none-any.whl (126 kB)\n",
      "   ---------------------------------------- 0.0/126.3 kB ? eta -:--:--\n",
      "   ---------------------------------------- 126.3/126.3 kB 7.7 MB/s eta 0:00:00\n",
      "Installing collected packages: urllib3, soupsieve, idna, charset-normalizer, certifi, requests, beautifulsoup4\n",
      "Successfully installed beautifulsoup4-4.12.3 certifi-2024.8.30 charset-normalizer-3.3.2 idna-3.10 requests-2.32.3 soupsieve-2.6 urllib3-2.2.3\n",
      "Note: you may need to restart the kernel to use updated packages.\n"
     ]
    },
    {
     "name": "stderr",
     "output_type": "stream",
     "text": [
      "  WARNING: The script normalizer.exe is installed in 'c:\\Users\\Ruslan\\AppData\\Local\\Programs\\Python\\Python312\\Scripts' which is not on PATH.\n",
      "  Consider adding this directory to PATH or, if you prefer to suppress this warning, use --no-warn-script-location.\n",
      "\n",
      "[notice] A new release of pip is available: 24.0 -> 24.2\n",
      "[notice] To update, run: python.exe -m pip install --upgrade pip\n"
     ]
    }
   ],
   "source": [
    "pip install requests beautifulsoup4"
   ]
  },
  {
   "cell_type": "code",
   "execution_count": 73,
   "metadata": {},
   "outputs": [
    {
     "name": "stdout",
     "output_type": "stream",
     "text": [
      "Search URL: https://genius.com/artists/Serega-pirat\n"
     ]
    }
   ],
   "source": [
    "import requests\n",
    "from bs4 import BeautifulSoup\n",
    "\n",
    "search_url = \"https://genius.com/artists/Sbpch\"\n",
    "search_url = \"https://genius.com/artists/Serega-pirat\"\n",
    "#search_url = \"https://genius.com/artists/Kanye-west\"\n",
    "print(\"Search URL:\", search_url)"
   ]
  },
  {
   "cell_type": "code",
   "execution_count": 74,
   "metadata": {},
   "outputs": [],
   "source": [
    "# Шаг 2: Отправка GET-запроса и получение содержимого страницы\n",
    "response = requests.get(search_url)"
   ]
  },
  {
   "cell_type": "code",
   "execution_count": 75,
   "metadata": {},
   "outputs": [
    {
     "name": "stdout",
     "output_type": "stream",
     "text": [
      "Страница успешно загружена\n",
      "Имя исполнителя: СЕРЕГА ПИРАТ (SEREGA PIRAT)\n",
      "            \n",
      "          \n"
     ]
    }
   ],
   "source": [
    "# Проверка статуса ответа\n",
    "if response.status_code == 200:\n",
    "    print(\"Страница успешно загружена\")\n",
    "    # Шаг 3: Парсинг содержимого страницы\n",
    "    soup = BeautifulSoup(response.content, 'html.parser')\n",
    "    \n",
    "    # Извлечение информации о первом артисте\n",
    "    artist_link = soup.find('h1', class_='profile_identity-name_iq_and_role_icon u-hair_bottom_margin')\n",
    "    if artist_link:\n",
    "        print(\"Имя исполнителя:\", artist_link.text)\n",
    "    else:\n",
    "        print(\"Исполнитель не найден.\")\n",
    "else:\n",
    "    print(\"Ошибка при загрузке страницы:\", response.status_code)"
   ]
  },
  {
   "cell_type": "code",
   "execution_count": 78,
   "metadata": {},
   "outputs": [
    {
     "name": "stdout",
     "output_type": "stream",
     "text": [
      "About СЕРЕГА ПИРАТ (SEREGA PIRAT)\n",
      "Сергей Маляр (родился в 1996 году в Санкт-Петербурге, Россия) — российский стример и музыкант, основном делает музыку в жанре рок. Популярность ему принесли некоторые сделанные им ролики на YouTube и несколько сильно зафорсившихся треков, такие как «фп ам», «тп на аме» и другие\n"
     ]
    }
   ],
   "source": [
    "information_strs = []\n",
    "about = soup.find('div', class_='white_container')\n",
    "if about:\n",
    "    # Получение текста и фильтрация пустых строк\n",
    "    info = [line.strip() for line in about.text.splitlines() if line.strip()]\n",
    "    for a in info:\n",
    "        if (a != 'Контакты:' and a != 'Паблик в VK'and \n",
    "            a != 'Twitch' and a != 'YouTube' and \n",
    "            a != 'Сообщество ВКонтакте' and a != 'Телеграм-канал'):\n",
    "            print(a)\n",
    "            information_strs.append(a)"
   ]
  },
  {
   "cell_type": "code",
   "execution_count": 79,
   "metadata": {},
   "outputs": [
    {
     "name": "stdout",
     "output_type": "stream",
     "text": [
      "Популярные песни этого исполнителя:\n",
      "фп ам (fp am)\n",
      "тп на аме (tp on am)\n",
      "Почему ты ещё не фанат? (Why aren't you a fan yet?)\n",
      "Мой байк (My Bike)\n",
      "Гимн Дахака (Dahak hymn)\n",
      "Песня в поддержку афроамериканцев (A song in support of African Americans)\n",
      "И я кричу, остановите катку (And I’m Screaming Stop The Game)\n",
      "ТИЛЬТ (TILT)\n",
      "В этой траве (In This Grass)\n",
      "Ну и что, что я вор? (So what if I'm a thief?)\n"
     ]
    }
   ],
   "source": [
    "print(\"Популярные песни этого исполнителя:\")\n",
    "artist_songs = soup.find('div', class_='mini_card_grid')\n",
    "if artist_songs:\n",
    "    # Получение текста и фильтрация пустых строк\n",
    "    songs = [line.strip() for line in artist_songs.text.splitlines() if line.strip()]\n",
    "    for song in songs:\n",
    "        if (song != artist_link.text.strip()):\n",
    "            print(song)\n"
   ]
  },
  {
   "cell_type": "code",
   "execution_count": null,
   "metadata": {},
   "outputs": [],
   "source": []
  },
  {
   "cell_type": "code",
   "execution_count": null,
   "metadata": {},
   "outputs": [],
   "source": []
  },
  {
   "cell_type": "code",
   "execution_count": null,
   "metadata": {},
   "outputs": [],
   "source": []
  },
  {
   "cell_type": "code",
   "execution_count": null,
   "metadata": {},
   "outputs": [],
   "source": []
  }
 ],
 "metadata": {
  "kernelspec": {
   "display_name": "Python 3",
   "language": "python",
   "name": "python3"
  },
  "language_info": {
   "codemirror_mode": {
    "name": "ipython",
    "version": 3
   },
   "file_extension": ".py",
   "mimetype": "text/x-python",
   "name": "python",
   "nbconvert_exporter": "python",
   "pygments_lexer": "ipython3",
   "version": "3.12.3"
  }
 },
 "nbformat": 4,
 "nbformat_minor": 2
}
